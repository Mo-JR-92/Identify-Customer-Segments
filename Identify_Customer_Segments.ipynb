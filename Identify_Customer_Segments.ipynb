{
 "cells": [
  {
   "cell_type": "markdown",
   "metadata": {},
   "source": [
    "# Project: Identify Customer Segments\n",
    "\n",
    "In this project, you will apply unsupervised learning techniques to identify segments of the population that form the core customer base for a mail-order sales company in Germany. These segments can then be used to direct marketing campaigns towards audiences that will have the highest expected rate of returns. The data that you will use has been provided by our partners at Bertelsmann Arvato Analytics, and represents a real-life data science task.\n",
    "\n",
    "This notebook will help you complete this task by providing a framework within which you will perform your analysis steps. In each step of the project, you will see some text describing the subtask that you will perform, followed by one or more code cells for you to complete your work. **Feel free to add additional code and markdown cells as you go along so that you can explore everything in precise chunks.** The code cells provided in the base template will outline only the major tasks, and will usually not be enough to cover all of the minor tasks that comprise it.\n",
    "\n",
    "It should be noted that while there will be precise guidelines on how you should handle certain tasks in the project, there will also be places where an exact specification is not provided. **There will be times in the project where you will need to make and justify your own decisions on how to treat the data.** These are places where there may not be only one way to handle the data. In real-life tasks, there may be many valid ways to approach an analysis task. One of the most important things you can do is clearly document your approach so that other scientists can understand the decisions you've made.\n",
    "\n",
    "At the end of most sections, there will be a Markdown cell labeled **Discussion**. In these cells, you will report your findings for the completed section, as well as document the decisions that you made in your approach to each subtask. **Your project will be evaluated not just on the code used to complete the tasks outlined, but also your communication about your observations and conclusions at each stage.**"
   ]
  },
  {
   "cell_type": "code",
   "execution_count": 1,
   "metadata": {},
   "outputs": [
    {
     "data": {
      "text/plain": [
       "'\\nImport note: The classroom currently uses sklearn version 0.19.\\nIf you need to use an imputer, it is available in sklearn.preprocessing.Imputer,\\ninstead of sklearn.impute as in newer versions of sklearn.\\n'"
      ]
     },
     "execution_count": 1,
     "metadata": {},
     "output_type": "execute_result"
    }
   ],
   "source": [
    "# import libraries here; add more as necessary\n",
    "import numpy as np\n",
    "import pandas as pd\n",
    "import matplotlib.pyplot as plt\n",
    "import seaborn as sns\n",
    "\n",
    "# magic word for producing visualizations in notebook\n",
    "%matplotlib inline\n",
    "\n",
    "'''\n",
    "Import note: The classroom currently uses sklearn version 0.19.\n",
    "If you need to use an imputer, it is available in sklearn.preprocessing.Imputer,\n",
    "instead of sklearn.impute as in newer versions of sklearn.\n",
    "'''"
   ]
  },
  {
   "cell_type": "markdown",
   "metadata": {},
   "source": [
    "### Step 0: Load the Data\n",
    "\n",
    "There are four files associated with this project (not including this one):\n",
    "\n",
    "- `Udacity_AZDIAS_Subset.csv`: Demographics data for the general population of Germany; 891211 persons (rows) x 85 features (columns).\n",
    "- `Udacity_CUSTOMERS_Subset.csv`: Demographics data for customers of a mail-order company; 191652 persons (rows) x 85 features (columns).\n",
    "- `Data_Dictionary.md`: Detailed information file about the features in the provided datasets.\n",
    "- `AZDIAS_Feature_Summary.csv`: Summary of feature attributes for demographics data; 85 features (rows) x 4 columns\n",
    "\n",
    "Each row of the demographics files represents a single person, but also includes information outside of individuals, including information about their household, building, and neighborhood. You will use this information to cluster the general population into groups with similar demographic properties. Then, you will see how the people in the customers dataset fit into those created clusters. The hope here is that certain clusters are over-represented in the customers data, as compared to the general population; those over-represented clusters will be assumed to be part of the core userbase. This information can then be used for further applications, such as targeting for a marketing campaign.\n",
    "\n",
    "To start off with, load in the demographics data for the general population into a pandas DataFrame, and do the same for the feature attributes summary. Note for all of the `.csv` data files in this project: they're semicolon (`;`) delimited, so you'll need an additional argument in your [`read_csv()`](https://pandas.pydata.org/pandas-docs/stable/generated/pandas.read_csv.html) call to read in the data properly. Also, considering the size of the main dataset, it may take some time for it to load completely.\n",
    "\n",
    "Once the dataset is loaded, it's recommended that you take a little bit of time just browsing the general structure of the dataset and feature summary file. You'll be getting deep into the innards of the cleaning in the first major step of the project, so gaining some general familiarity can help you get your bearings."
   ]
  },
  {
   "cell_type": "code",
   "execution_count": 2,
   "metadata": {},
   "outputs": [],
   "source": [
    "# Load in the general demographics data.\n",
    "azdias = pd.read_csv('Udacity_AZDIAS_Subset.csv', sep=';', header=0)\n",
    "\n",
    "# Load in the feature summary file.\n",
    "feat_info = pd.read_csv('AZDIAS_Feature_Summary.csv', sep=';', header=0)"
   ]
  },
  {
   "cell_type": "code",
   "execution_count": 3,
   "metadata": {},
   "outputs": [
    {
     "name": "stdout",
     "output_type": "stream",
     "text": [
      "Number of rows in the dataset:891221\n",
      "Number of columns in the dataset: 85\n"
     ]
    },
    {
     "data": {
      "text/html": [
       "<div>\n",
       "<style scoped>\n",
       "    .dataframe tbody tr th:only-of-type {\n",
       "        vertical-align: middle;\n",
       "    }\n",
       "\n",
       "    .dataframe tbody tr th {\n",
       "        vertical-align: top;\n",
       "    }\n",
       "\n",
       "    .dataframe thead th {\n",
       "        text-align: right;\n",
       "    }\n",
       "</style>\n",
       "<table border=\"1\" class=\"dataframe\">\n",
       "  <thead>\n",
       "    <tr style=\"text-align: right;\">\n",
       "      <th></th>\n",
       "      <th>AGER_TYP</th>\n",
       "      <th>ALTERSKATEGORIE_GROB</th>\n",
       "      <th>ANREDE_KZ</th>\n",
       "      <th>CJT_GESAMTTYP</th>\n",
       "      <th>FINANZ_MINIMALIST</th>\n",
       "      <th>FINANZ_SPARER</th>\n",
       "      <th>FINANZ_VORSORGER</th>\n",
       "      <th>FINANZ_ANLEGER</th>\n",
       "      <th>FINANZ_UNAUFFAELLIGER</th>\n",
       "      <th>FINANZ_HAUSBAUER</th>\n",
       "      <th>...</th>\n",
       "      <th>PLZ8_ANTG1</th>\n",
       "      <th>PLZ8_ANTG2</th>\n",
       "      <th>PLZ8_ANTG3</th>\n",
       "      <th>PLZ8_ANTG4</th>\n",
       "      <th>PLZ8_BAUMAX</th>\n",
       "      <th>PLZ8_HHZ</th>\n",
       "      <th>PLZ8_GBZ</th>\n",
       "      <th>ARBEIT</th>\n",
       "      <th>ORTSGR_KLS9</th>\n",
       "      <th>RELAT_AB</th>\n",
       "    </tr>\n",
       "  </thead>\n",
       "  <tbody>\n",
       "    <tr>\n",
       "      <th>0</th>\n",
       "      <td>-1</td>\n",
       "      <td>2</td>\n",
       "      <td>1</td>\n",
       "      <td>2.0</td>\n",
       "      <td>3</td>\n",
       "      <td>4</td>\n",
       "      <td>3</td>\n",
       "      <td>5</td>\n",
       "      <td>5</td>\n",
       "      <td>3</td>\n",
       "      <td>...</td>\n",
       "      <td>NaN</td>\n",
       "      <td>NaN</td>\n",
       "      <td>NaN</td>\n",
       "      <td>NaN</td>\n",
       "      <td>NaN</td>\n",
       "      <td>NaN</td>\n",
       "      <td>NaN</td>\n",
       "      <td>NaN</td>\n",
       "      <td>NaN</td>\n",
       "      <td>NaN</td>\n",
       "    </tr>\n",
       "    <tr>\n",
       "      <th>1</th>\n",
       "      <td>-1</td>\n",
       "      <td>1</td>\n",
       "      <td>2</td>\n",
       "      <td>5.0</td>\n",
       "      <td>1</td>\n",
       "      <td>5</td>\n",
       "      <td>2</td>\n",
       "      <td>5</td>\n",
       "      <td>4</td>\n",
       "      <td>5</td>\n",
       "      <td>...</td>\n",
       "      <td>2.0</td>\n",
       "      <td>3.0</td>\n",
       "      <td>2.0</td>\n",
       "      <td>1.0</td>\n",
       "      <td>1.0</td>\n",
       "      <td>5.0</td>\n",
       "      <td>4.0</td>\n",
       "      <td>3.0</td>\n",
       "      <td>5.0</td>\n",
       "      <td>4.0</td>\n",
       "    </tr>\n",
       "    <tr>\n",
       "      <th>2</th>\n",
       "      <td>-1</td>\n",
       "      <td>3</td>\n",
       "      <td>2</td>\n",
       "      <td>3.0</td>\n",
       "      <td>1</td>\n",
       "      <td>4</td>\n",
       "      <td>1</td>\n",
       "      <td>2</td>\n",
       "      <td>3</td>\n",
       "      <td>5</td>\n",
       "      <td>...</td>\n",
       "      <td>3.0</td>\n",
       "      <td>3.0</td>\n",
       "      <td>1.0</td>\n",
       "      <td>0.0</td>\n",
       "      <td>1.0</td>\n",
       "      <td>4.0</td>\n",
       "      <td>4.0</td>\n",
       "      <td>3.0</td>\n",
       "      <td>5.0</td>\n",
       "      <td>2.0</td>\n",
       "    </tr>\n",
       "    <tr>\n",
       "      <th>3</th>\n",
       "      <td>2</td>\n",
       "      <td>4</td>\n",
       "      <td>2</td>\n",
       "      <td>2.0</td>\n",
       "      <td>4</td>\n",
       "      <td>2</td>\n",
       "      <td>5</td>\n",
       "      <td>2</td>\n",
       "      <td>1</td>\n",
       "      <td>2</td>\n",
       "      <td>...</td>\n",
       "      <td>2.0</td>\n",
       "      <td>2.0</td>\n",
       "      <td>2.0</td>\n",
       "      <td>0.0</td>\n",
       "      <td>1.0</td>\n",
       "      <td>3.0</td>\n",
       "      <td>4.0</td>\n",
       "      <td>2.0</td>\n",
       "      <td>3.0</td>\n",
       "      <td>3.0</td>\n",
       "    </tr>\n",
       "    <tr>\n",
       "      <th>4</th>\n",
       "      <td>-1</td>\n",
       "      <td>3</td>\n",
       "      <td>1</td>\n",
       "      <td>5.0</td>\n",
       "      <td>4</td>\n",
       "      <td>3</td>\n",
       "      <td>4</td>\n",
       "      <td>1</td>\n",
       "      <td>3</td>\n",
       "      <td>2</td>\n",
       "      <td>...</td>\n",
       "      <td>2.0</td>\n",
       "      <td>4.0</td>\n",
       "      <td>2.0</td>\n",
       "      <td>1.0</td>\n",
       "      <td>2.0</td>\n",
       "      <td>3.0</td>\n",
       "      <td>3.0</td>\n",
       "      <td>4.0</td>\n",
       "      <td>6.0</td>\n",
       "      <td>5.0</td>\n",
       "    </tr>\n",
       "  </tbody>\n",
       "</table>\n",
       "<p>5 rows × 85 columns</p>\n",
       "</div>"
      ],
      "text/plain": [
       "   AGER_TYP  ALTERSKATEGORIE_GROB  ANREDE_KZ  CJT_GESAMTTYP  \\\n",
       "0        -1                     2          1            2.0   \n",
       "1        -1                     1          2            5.0   \n",
       "2        -1                     3          2            3.0   \n",
       "3         2                     4          2            2.0   \n",
       "4        -1                     3          1            5.0   \n",
       "\n",
       "   FINANZ_MINIMALIST  FINANZ_SPARER  FINANZ_VORSORGER  FINANZ_ANLEGER  \\\n",
       "0                  3              4                 3               5   \n",
       "1                  1              5                 2               5   \n",
       "2                  1              4                 1               2   \n",
       "3                  4              2                 5               2   \n",
       "4                  4              3                 4               1   \n",
       "\n",
       "   FINANZ_UNAUFFAELLIGER  FINANZ_HAUSBAUER    ...     PLZ8_ANTG1  PLZ8_ANTG2  \\\n",
       "0                      5                 3    ...            NaN         NaN   \n",
       "1                      4                 5    ...            2.0         3.0   \n",
       "2                      3                 5    ...            3.0         3.0   \n",
       "3                      1                 2    ...            2.0         2.0   \n",
       "4                      3                 2    ...            2.0         4.0   \n",
       "\n",
       "   PLZ8_ANTG3  PLZ8_ANTG4  PLZ8_BAUMAX  PLZ8_HHZ  PLZ8_GBZ  ARBEIT  \\\n",
       "0         NaN         NaN          NaN       NaN       NaN     NaN   \n",
       "1         2.0         1.0          1.0       5.0       4.0     3.0   \n",
       "2         1.0         0.0          1.0       4.0       4.0     3.0   \n",
       "3         2.0         0.0          1.0       3.0       4.0     2.0   \n",
       "4         2.0         1.0          2.0       3.0       3.0     4.0   \n",
       "\n",
       "   ORTSGR_KLS9  RELAT_AB  \n",
       "0          NaN       NaN  \n",
       "1          5.0       4.0  \n",
       "2          5.0       2.0  \n",
       "3          3.0       3.0  \n",
       "4          6.0       5.0  \n",
       "\n",
       "[5 rows x 85 columns]"
      ]
     },
     "execution_count": 3,
     "metadata": {},
     "output_type": "execute_result"
    }
   ],
   "source": [
    "# Check the structure of the data after it's loaded (e.g. print the number of\n",
    "# rows and columns, print the first few rows).\n",
    "print(f'Number of rows in the dataset:{azdias.shape[0]}')\n",
    "print(f\"Number of columns in the dataset: {azdias.shape[1]}\")\n",
    "azdias.head()"
   ]
  },
  {
   "cell_type": "code",
   "execution_count": 4,
   "metadata": {},
   "outputs": [
    {
     "name": "stdout",
     "output_type": "stream",
     "text": [
      "Total number of original missing data in all the rows and the columns: 4896838\n"
     ]
    }
   ],
   "source": [
    "# Identify missing or unknown data values and convert them to NaNs.\n",
    "print(f\"Total number of original missing data in all the rows and the columns: {azdias.isna().sum().sum()}\")"
   ]
  },
  {
   "cell_type": "markdown",
   "metadata": {},
   "source": [
    "## Step 1: Preprocessing\n",
    "\n",
    "### Step 1.1: Assess Missing Data\n",
    "\n",
    "The feature summary file contains a summary of properties for each demographics data column. You will use this file to help you make cleaning decisions during this stage of the project. First of all, you should assess the demographics data in terms of missing data. Pay attention to the following points as you perform your analysis, and take notes on what you observe. Make sure that you fill in the **Discussion** cell with your findings and decisions at the end of each step that has one!\n",
    "\n",
    "#### Step 1.1.1: Convert Missing Value Codes to NaNs\n",
    "The fourth column of the feature attributes summary (loaded in above as `feat_info`) documents the codes from the data dictionary that indicate missing or unknown data. While the file encodes this as a list (e.g. `[-1,0]`), this will get read in as a string object. You'll need to do a little bit of parsing to make use of it to identify and clean the data. Convert data that matches a 'missing' or 'unknown' value code into a numpy NaN value. You might want to see how much data takes on a 'missing' or 'unknown' code, and how much data is naturally missing, as a point of interest."
   ]
  },
  {
   "cell_type": "code",
   "execution_count": 5,
   "metadata": {},
   "outputs": [
    {
     "data": {
      "text/html": [
       "<div>\n",
       "<style scoped>\n",
       "    .dataframe tbody tr th:only-of-type {\n",
       "        vertical-align: middle;\n",
       "    }\n",
       "\n",
       "    .dataframe tbody tr th {\n",
       "        vertical-align: top;\n",
       "    }\n",
       "\n",
       "    .dataframe thead th {\n",
       "        text-align: right;\n",
       "    }\n",
       "</style>\n",
       "<table border=\"1\" class=\"dataframe\">\n",
       "  <thead>\n",
       "    <tr style=\"text-align: right;\">\n",
       "      <th></th>\n",
       "      <th>attribute</th>\n",
       "      <th>information_level</th>\n",
       "      <th>type</th>\n",
       "      <th>missing_or_unknown</th>\n",
       "    </tr>\n",
       "  </thead>\n",
       "  <tbody>\n",
       "    <tr>\n",
       "      <th>10</th>\n",
       "      <td>FINANZTYP</td>\n",
       "      <td>person</td>\n",
       "      <td>categorical</td>\n",
       "      <td>[-1]</td>\n",
       "    </tr>\n",
       "    <tr>\n",
       "      <th>11</th>\n",
       "      <td>GEBURTSJAHR</td>\n",
       "      <td>person</td>\n",
       "      <td>numeric</td>\n",
       "      <td>[0]</td>\n",
       "    </tr>\n",
       "    <tr>\n",
       "      <th>12</th>\n",
       "      <td>GFK_URLAUBERTYP</td>\n",
       "      <td>person</td>\n",
       "      <td>categorical</td>\n",
       "      <td>[]</td>\n",
       "    </tr>\n",
       "    <tr>\n",
       "      <th>13</th>\n",
       "      <td>GREEN_AVANTGARDE</td>\n",
       "      <td>person</td>\n",
       "      <td>categorical</td>\n",
       "      <td>[]</td>\n",
       "    </tr>\n",
       "    <tr>\n",
       "      <th>14</th>\n",
       "      <td>HEALTH_TYP</td>\n",
       "      <td>person</td>\n",
       "      <td>ordinal</td>\n",
       "      <td>[-1,0]</td>\n",
       "    </tr>\n",
       "  </tbody>\n",
       "</table>\n",
       "</div>"
      ],
      "text/plain": [
       "           attribute information_level         type missing_or_unknown\n",
       "10         FINANZTYP            person  categorical               [-1]\n",
       "11       GEBURTSJAHR            person      numeric                [0]\n",
       "12   GFK_URLAUBERTYP            person  categorical                 []\n",
       "13  GREEN_AVANTGARDE            person  categorical                 []\n",
       "14        HEALTH_TYP            person      ordinal             [-1,0]"
      ]
     },
     "execution_count": 5,
     "metadata": {},
     "output_type": "execute_result"
    }
   ],
   "source": [
    "feat_info[10:15]"
   ]
  },
  {
   "cell_type": "code",
   "execution_count": 6,
   "metadata": {},
   "outputs": [],
   "source": [
    "# Some columns don't have missing or unknown values and it's represented in feat_info dataset with empty []\n",
    "# so this line will remove these columns\n",
    "feat_info_2 = feat_info.drop(feat_info[feat_info.missing_or_unknown == '[]'].index)\n",
    "\n",
    "# Now we need to modify the values in missing_or_unknown columns so we can operate on them later\n",
    "# The code below will replace the things we don't need and the split() will make a list of the values \n",
    "# The values in these lists will still be strings but we can change them easily now\n",
    "feat_info_2['missing_or_unknown'] = feat_info_2.missing_or_unknown.apply(lambda x: list(x[1:-1].replace('[','').replace(']', '').replace(',', ' ').split(' ')))"
   ]
  },
  {
   "cell_type": "code",
   "execution_count": 7,
   "metadata": {},
   "outputs": [
    {
     "data": {
      "text/html": [
       "<div>\n",
       "<style scoped>\n",
       "    .dataframe tbody tr th:only-of-type {\n",
       "        vertical-align: middle;\n",
       "    }\n",
       "\n",
       "    .dataframe tbody tr th {\n",
       "        vertical-align: top;\n",
       "    }\n",
       "\n",
       "    .dataframe thead th {\n",
       "        text-align: right;\n",
       "    }\n",
       "</style>\n",
       "<table border=\"1\" class=\"dataframe\">\n",
       "  <thead>\n",
       "    <tr style=\"text-align: right;\">\n",
       "      <th></th>\n",
       "      <th>attribute</th>\n",
       "      <th>information_level</th>\n",
       "      <th>type</th>\n",
       "      <th>missing_or_unknown</th>\n",
       "    </tr>\n",
       "  </thead>\n",
       "  <tbody>\n",
       "    <tr>\n",
       "      <th>0</th>\n",
       "      <td>AGER_TYP</td>\n",
       "      <td>person</td>\n",
       "      <td>categorical</td>\n",
       "      <td>[-1,0]</td>\n",
       "    </tr>\n",
       "    <tr>\n",
       "      <th>1</th>\n",
       "      <td>ALTERSKATEGORIE_GROB</td>\n",
       "      <td>person</td>\n",
       "      <td>ordinal</td>\n",
       "      <td>[-1,0,9]</td>\n",
       "    </tr>\n",
       "    <tr>\n",
       "      <th>2</th>\n",
       "      <td>ANREDE_KZ</td>\n",
       "      <td>person</td>\n",
       "      <td>categorical</td>\n",
       "      <td>[-1,0]</td>\n",
       "    </tr>\n",
       "    <tr>\n",
       "      <th>3</th>\n",
       "      <td>CJT_GESAMTTYP</td>\n",
       "      <td>person</td>\n",
       "      <td>categorical</td>\n",
       "      <td>[0]</td>\n",
       "    </tr>\n",
       "    <tr>\n",
       "      <th>4</th>\n",
       "      <td>FINANZ_MINIMALIST</td>\n",
       "      <td>person</td>\n",
       "      <td>ordinal</td>\n",
       "      <td>[-1]</td>\n",
       "    </tr>\n",
       "  </tbody>\n",
       "</table>\n",
       "</div>"
      ],
      "text/plain": [
       "              attribute information_level         type missing_or_unknown\n",
       "0              AGER_TYP            person  categorical             [-1,0]\n",
       "1  ALTERSKATEGORIE_GROB            person      ordinal           [-1,0,9]\n",
       "2             ANREDE_KZ            person  categorical             [-1,0]\n",
       "3         CJT_GESAMTTYP            person  categorical                [0]\n",
       "4     FINANZ_MINIMALIST            person      ordinal               [-1]"
      ]
     },
     "execution_count": 7,
     "metadata": {},
     "output_type": "execute_result"
    }
   ],
   "source": [
    "feat_info.head()"
   ]
  },
  {
   "cell_type": "code",
   "execution_count": 8,
   "metadata": {},
   "outputs": [
    {
     "data": {
      "text/plain": [
       "0"
      ]
     },
     "execution_count": 8,
     "metadata": {},
     "output_type": "execute_result"
    }
   ],
   "source": [
    "azdias.AGER_TYP.isna().sum()"
   ]
  },
  {
   "cell_type": "markdown",
   "metadata": {},
   "source": [
    "- as it's showing in the last cell AGER_TYP colomn in azdias ds doesn't have any NaN values, and we know form missing_or_unknown column in feat_info that -1 and 0 represent the missing or unknown valus in AGER_TYP, so if we count the number of times 0 and -1 exist in AGER_TYP column and sum them up we would get the expected number of NaN values in this column so we can compare this number with the real number of NaN values after converting and if they both were equal then we have successfully converted the requiered values to NaNs."
   ]
  },
  {
   "cell_type": "code",
   "execution_count": 9,
   "metadata": {},
   "outputs": [
    {
     "name": "stdout",
     "output_type": "stream",
     "text": [
      "We can Expecte AGER_TYP to have : (685843) NaN values after we convert the missing_and_unknown to NaN. \n"
     ]
    }
   ],
   "source": [
    "exp_NaN_ager_typ = azdias.AGER_TYP.value_counts()[-1] + azdias.AGER_TYP.value_counts()[0]\n",
    "print(f\"We can Expecte AGER_TYP to have : ({exp_NaN_ager_typ}) NaN values after we convert the missing_and_unknown to NaN. \")"
   ]
  },
  {
   "cell_type": "code",
   "execution_count": 10,
   "metadata": {},
   "outputs": [
    {
     "name": "stdout",
     "output_type": "stream",
     "text": [
      "Looped over 75 columns\n",
      "CPU times: user 1.97 s, sys: 1.94 s, total: 3.92 s\n",
      "Wall time: 7.72 s\n"
     ]
    }
   ],
   "source": [
    "%%time\n",
    "# This for loop will convert the missing_or_unknown values to NaN\n",
    "count = 0\n",
    "# looping over the 75 column name we have after we removed the onse with no missing_or_unkown values\n",
    "for column in feat_info_2['attribute']:\n",
    "    # Looping over the list that represent the missing_or_unknow \n",
    "    for value in feat_info_2[feat_info_2['attribute'] == column]['missing_or_unknown'].values[0]:\n",
    "        # because we have some non numric values (X and XX to be specific) we need to deal with them using if statement\n",
    "        # here for X\n",
    "        if value == 'X':\n",
    "            # comparing the values in the columns with the missing values \n",
    "            # if they match they will be conveted to NaN\n",
    "            azdias[column] = np.where(azdias[column] == value, np.NaN, azdias[column])\n",
    "        # and here for XX\n",
    "        elif value == 'XX':\n",
    "            azdias[column] = np.where(azdias[column] == value, np.NaN, azdias[column])\n",
    "        # the remaining will be numric and we can convert them to integers befor we compare and then convert to NaNs\n",
    "        # \n",
    "        else:\n",
    "            azdias[column] = np.where(azdias[column] == int(value), np.NaN, azdias[column])\n",
    "            \n",
    "    count += 1\n",
    "print(f\"Looped over {count} columns\")"
   ]
  },
  {
   "cell_type": "code",
   "execution_count": 11,
   "metadata": {},
   "outputs": [
    {
     "name": "stdout",
     "output_type": "stream",
     "text": [
      "Now the total number of NaN in azdias df is: 8373929\n",
      "this confermation will be printed only if both are equal: 685843\n",
      "with both of these we can be confidant that the for loop above worked.\n"
     ]
    }
   ],
   "source": [
    "total_NaNs = azdias.isna().sum().sum()\n",
    "print(f\"Now the total number of NaN in azdias df is: {total_NaNs}\")\n",
    "# if the number of NaN in the AGER_TYP match the expeted one print confermation\n",
    "num_NaN_ag_ty = azdias.AGER_TYP.isna().sum()\n",
    "if num_NaN_ag_ty == exp_NaN_ager_typ:\n",
    "    print(f\"this confermation will be printed only if both are equal: {num_NaN_ag_ty}\")\n",
    "    print(f\"with both of these we can be confidant that the for loop above worked.\")"
   ]
  },
  {
   "cell_type": "markdown",
   "metadata": {},
   "source": [
    "#### Step 1.1.2: Assess Missing Data in Each Column\n",
    "\n",
    "How much missing data is present in each column? There are a few columns that are outliers in terms of the proportion of values that are missing. You will want to use matplotlib's [`hist()`](https://matplotlib.org/api/_as_gen/matplotlib.pyplot.hist.html) function to visualize the distribution of missing value counts to find these columns. Identify and document these columns. While some of these columns might have justifications for keeping or re-encoding the data, for this project you should just remove them from the dataframe. (Feel free to make remarks about these outlier columns in the discussion, however!)\n",
    "\n",
    "For the remaining features, are there any patterns in which columns have, or share, missing data?"
   ]
  },
  {
   "cell_type": "code",
   "execution_count": 12,
   "metadata": {},
   "outputs": [],
   "source": [
    "# making a list to hold the missing values in each column\n",
    "missing_values_counts = []\n",
    "# looping over the NaN values in each column\n",
    "for i in azdias.isna().sum():\n",
    "    # appending them to the list\n",
    "    missing_values_counts.append(i)\n",
    "# missing_values_counts"
   ]
  },
  {
   "cell_type": "code",
   "execution_count": 13,
   "metadata": {},
   "outputs": [
    {
     "data": {
      "image/png": "[encoded data removed]",
      "text/plain": [
       "<matplotlib.figure.Figure at 0x7f8cee037a20>"
      ]
     },
     "metadata": {
      "needs_background": "light"
     },
     "output_type": "display_data"
    }
   ],
   "source": [
    "# Perform an assessment of how much missing data there is in each column of the\n",
    "# dataset.\n",
    "plt.hist(x=missing_values_counts, bins=100);\n",
    "plt.ylabel('Num of Columns')\n",
    "plt.xlabel('Number of Missing Values')\n",
    "plt.show()"
   ]
  },
  {
   "cell_type": "code",
   "execution_count": 14,
   "metadata": {},
   "outputs": [
    {
     "data": {
      "text/plain": [
       "['AGER_TYP',\n",
       " 'GEBURTSJAHR',\n",
       " 'TITEL_KZ',\n",
       " 'ALTER_HH',\n",
       " 'KK_KUNDENTYP',\n",
       " 'KBA05_BAUMAX']"
      ]
     },
     "execution_count": 14,
     "metadata": {},
     "output_type": "execute_result"
    }
   ],
   "source": [
    "# gitting the columns name from azdias\n",
    "columns_names = azdias.columns\n",
    "# creating a list that will hold the outliers columns by name\n",
    "outlier_columns = []\n",
    "for i in columns_names:\n",
    "    # if a column has more the 200,000 NaN it will be an outlier\n",
    "    if azdias[i].isna().sum() > 200000:\n",
    "        outlier_columns.append(i)\n",
    "# here are the outliers columns\n",
    "outlier_columns"
   ]
  },
  {
   "cell_type": "code",
   "execution_count": 16,
   "metadata": {},
   "outputs": [
    {
     "data": {
      "text/plain": [
       "(891221, 79)"
      ]
     },
     "execution_count": 16,
     "metadata": {},
     "output_type": "execute_result"
    }
   ],
   "source": [
    "# Remove the outlier columns from the dataset. (You'll perform other data\n",
    "# engineering tasks such as re-encoding and imputation later.)\n",
    "updated_azdias = azdias.drop(outlier_columns, axis=1)\n",
    "updated_azdias.shape"
   ]
  },
  {
   "cell_type": "code",
   "execution_count": 17,
   "metadata": {},
   "outputs": [
    {
     "data": {
      "image/png": "[encoded data removed]",
      "text/plain": [
       "<matplotlib.figure.Figure at 0x7f8cebb94710>"
      ]
     },
     "metadata": {
      "needs_background": "light"
     },
     "output_type": "display_data"
    }
   ],
   "source": [
    "# Investigate patterns in the amount of missing data in each column.\n",
    "# updated_azdias.isna().sum()\n",
    "missing_values_counts = []\n",
    "for i in updated_azdias.isna().sum():\n",
    "    missing_values_counts.append(i)\n",
    "plt.hist(x=missing_values_counts, bins=50);\n",
    "plt.ylabel('Num of Columns')\n",
    "plt.xlabel('Number of Missing Values')\n",
    "plt.show()"
   ]
  },
  {
   "cell_type": "code",
   "execution_count": 18,
   "metadata": {},
   "outputs": [
    {
     "data": {
      "text/plain": [
       "47"
      ]
     },
     "execution_count": 18,
     "metadata": {},
     "output_type": "execute_result"
    }
   ],
   "source": [
    "columns_names = updated_azdias.columns\n",
    "sixty_k_or_more_null = []\n",
    "for i in columns_names:\n",
    "    if updated_azdias[i].isna().sum() > 60000:\n",
    "        sixty_k_or_more_null.append(i)\n",
    "len(sixty_k_or_more_null)"
   ]
  },
  {
   "cell_type": "markdown",
   "metadata": {},
   "source": [
    "#### Discussion 1.1.2: Assess Missing Data in Each Column\n",
    "\n",
    "(Double click this cell and replace this text with your own text, reporting your observations regarding the amount of missing data in each column. Are there any patterns in missing values? Which columns were removed from the dataset?)\n",
    "- so after removing the 6 outliers columns there was still 47 column that have more than 60,000 NaN values.\n",
    "- These 47 columns came from every type of feature, All of the 9 types have a feature with 60,000 or more NaN valuse."
   ]
  },
  {
   "cell_type": "markdown",
   "metadata": {},
   "source": [
    "### There are 6 outlier columns (that have more than 200,000 missing data) below are each one with some details to understand what kind of info we have lost by removing them:\n",
    "#### 1. Person-level features : \n",
    "- AGER_TYP: (Best-ager typology) here is a link that explain what it means [Best-ager](https://www.ambista.com/en/magazine/best-ager#:~:text=Best%20Agers%3A%20an%20affluent%20group%20of%20consumers&text=Basically%20everything%20and%20nothing.,and%20want%20to%20spend%20it.) , total data missing is 685,843\n",
    "- GEBURTSJAHR: (Year of birth) total data missing is 392,318\n",
    "- TITEL_KZ: (Academic title like Dr or Pro) total data missing is 889,061\n",
    "\n",
    "#### 2. Household-level features\n",
    "- ALTER_HH: (Birthdate of head of household) total data missing is 310,267\n",
    "- KK_KUNDENTYP: (Consumer pattern over past 12 months) total data missing is 584,612\n",
    "\n",
    "#### 3. RR3 micro-cell features\n",
    "- KBA05_BAUMAX: (Most common building type within the microcell) total data missing is 476,524"
   ]
  },
  {
   "cell_type": "markdown",
   "metadata": {},
   "source": [
    "#### Step 1.1.3: Assess Missing Data in Each Row\n",
    "\n",
    "Now, you'll perform a similar assessment for the rows of the dataset. How much data is missing in each row? As with the columns, you should see some groups of points that have a very different numbers of missing values. Divide the data into two subsets: one for data points that are above some threshold for missing values, and a second subset for points below that threshold.\n",
    "\n",
    "In order to know what to do with the outlier rows, we should see if the distribution of data values on columns that are not missing data (or are missing very little data) are similar or different between the two groups. Select at least five of these columns and compare the distribution of values.\n",
    "- You can use seaborn's [`countplot()`](https://seaborn.pydata.org/generated/seaborn.countplot.html) function to create a bar chart of code frequencies and matplotlib's [`subplot()`](https://matplotlib.org/api/_as_gen/matplotlib.pyplot.subplot.html) function to put bar charts for the two subplots side by side.\n",
    "- To reduce repeated code, you might want to write a function that can perform this comparison, taking as one of its arguments a column to be compared.\n",
    "\n",
    "Depending on what you observe in your comparison, this will have implications on how you approach your conclusions later in the analysis. If the distributions of non-missing features look similar between the data with many missing values and the data with few or no missing values, then we could argue that simply dropping those points from the analysis won't present a major issue. On the other hand, if the data with many missing values looks very different from the data with few or no missing values, then we should make a note on those data as special. We'll revisit these data later on. **Either way, you should continue your analysis for now using just the subset of the data with few or no missing values.**"
   ]
  },
  {
   "cell_type": "code",
   "execution_count": 19,
   "metadata": {},
   "outputs": [
    {
     "data": {
      "image/png": "[encoded data removed]",
      "text/plain": [
       "<matplotlib.figure.Figure at 0x7f8ccc3a80f0>"
      ]
     },
     "metadata": {
      "needs_background": "light"
     },
     "output_type": "display_data"
    }
   ],
   "source": [
    "# How much data is missing in each row of the dataset?\n",
    "num_nan_in_rows = updated_azdias.isnull().sum(axis=1).tolist()\n",
    "\n",
    "plt.hist(x=num_nan_in_rows, bins=50)\n",
    "plt.ylabel('Num of Columns')\n",
    "plt.xlabel('Number of Missing Values')\n",
    "plt.show();\n"
   ]
  },
  {
   "cell_type": "code",
   "execution_count": 20,
   "metadata": {},
   "outputs": [
    {
     "data": {
      "text/plain": [
       "((623209, 79), (268012, 79))"
      ]
     },
     "execution_count": 20,
     "metadata": {},
     "output_type": "execute_result"
    }
   ],
   "source": [
    "no_nan_rows = updated_azdias[updated_azdias.isnull().sum(axis=1) <= 0]\n",
    "rows_with_nans = updated_azdias[updated_azdias.isnull().sum(axis=1) > 0]"
   ]
  },
  {
   "cell_type": "code",
   "execution_count": 21,
   "metadata": {},
   "outputs": [
    {
     "name": "stdout",
     "output_type": "stream",
     "text": [
      "There are: 623209 rows that have no missing values.\n",
      "There are: 268012 rows that have missing values.\n"
     ]
    }
   ],
   "source": [
    "# Write code to divide the data into two subsets based on the number of missing\n",
    "# values in each row.\n",
    "print(f\"There are: {no_nan_rows.shape[0]} rows that have no missing values.\")\n",
    "print(f\"There are: {rows_with_nans.shape[0]} rows that have missing values.\")"
   ]
  },
  {
   "cell_type": "code",
   "execution_count": 22,
   "metadata": {},
   "outputs": [
    {
     "name": "stdout",
     "output_type": "stream",
     "text": [
      "This is the number of missing values of the no_nan_rows: 0\n",
      "This is the number of missing values of the rows_with_nans: 5035304\n"
     ]
    }
   ],
   "source": [
    "print(f\"This is the number of missing values of the no_nan_rows: {no_nan_rows.isna().sum().sum()}\")\n",
    "print(f\"This is the number of missing values of the rows_with_nans: {rows_with_nans.isna().sum().sum()}\")"
   ]
  },
  {
   "cell_type": "code",
   "execution_count": 168,
   "metadata": {},
   "outputs": [
    {
     "data": {
      "image/png": "[encoded data removed]",
      "text/plain": [
       "<matplotlib.figure.Figure at 0x7f8c83db5518>"
      ]
     },
     "metadata": {
      "needs_background": "light"
     },
     "output_type": "display_data"
    },
    {
     "data": {
      "image/png": "[encoded data removed]",
      "text/plain": [
       "<matplotlib.figure.Figure at 0x7f8c83e45908>"
      ]
     },
     "metadata": {
      "needs_background": "light"
     },
     "output_type": "display_data"
    },
    {
     "data": {
      "image/png": "[encoded data removed]",
      "text/plain": [
       "<matplotlib.figure.Figure at 0x7f8c8440ad30>"
      ]
     },
     "metadata": {
      "needs_background": "light"
     },
     "output_type": "display_data"
    },
    {
     "data": {
      "image/png": "[encoded data removed]",
      "text/plain": [
       "<matplotlib.figure.Figure at 0x7f8c83e1d9b0>"
      ]
     },
     "metadata": {
      "needs_background": "light"
     },
     "output_type": "display_data"
    },
    {
     "data": {
      "image/png": "[encoded data removed]",
      "text/plain": [
       "<matplotlib.figure.Figure at 0x7f8c8418f9b0>"
      ]
     },
     "metadata": {
      "needs_background": "light"
     },
     "output_type": "display_data"
    }
   ],
   "source": [
    "compare_columns = no_nan_rows.columns[10:15]\n",
    "def create_plot(column):\n",
    "    fig, (ax1, ax2) = plt.subplots(1, 2)\n",
    "    fig.set_figwidth(15)\n",
    "    ax1.set_title('No missing values')\n",
    "    sns.countplot(azdias.loc[no_nan_rows.index,column],ax=ax1)\n",
    "\n",
    "    ax2.set_title('With missing values')\n",
    "    sns.countplot(azdias.loc[rows_with_nans.index,column],ax=ax2)\n",
    "    \n",
    "    plt.show()\n",
    "for i in range(compare_columns.size):\n",
    "    create_plot(compare_columns[i])"
   ]
  },
  {
   "cell_type": "markdown",
   "metadata": {},
   "source": [
    "#### Discussion 1.1.3: Assess Missing Data in Each Row\n",
    "\n",
    "**Are the data with lots of missing values are qualitatively different from data with few or no missing values?**\n",
    "- The answer is yes, and I decided to continue without any missing data, which means we removed around 270,000 rows from the data.\n",
    "- Now if I set the limit to 3 NaNs per rows and countined with few missing data instead of no missing data the number of rows we will delete will still be above 200,000.\n",
    "- If i feel like this decision will effect this analysis I would go back and change it."
   ]
  },
  {
   "cell_type": "markdown",
   "metadata": {},
   "source": [
    "### Step 1.2: Select and Re-Encode Features\n",
    "\n",
    "Checking for missing data isn't the only way in which you can prepare a dataset for analysis. Since the unsupervised learning techniques to be used will only work on data that is encoded numerically, you need to make a few encoding changes or additional assumptions to be able to make progress. In addition, while almost all of the values in the dataset are encoded using numbers, not all of them represent numeric values. Check the third column of the feature summary (`feat_info`) for a summary of types of measurement.\n",
    "- For numeric and interval data, these features can be kept without changes.\n",
    "- Most of the variables in the dataset are ordinal in nature. While ordinal values may technically be non-linear in spacing, make the simplifying assumption that the ordinal variables can be treated as being interval in nature (that is, kept without any changes).\n",
    "- Special handling may be necessary for the remaining two variable types: categorical, and 'mixed'.\n",
    "\n",
    "In the first two parts of this sub-step, you will perform an investigation of the categorical and mixed-type features and make a decision on each of them, whether you will keep, drop, or re-encode each. Then, in the last part, you will create a new data frame with only the selected and engineered columns.\n",
    "\n",
    "Data wrangling is often the trickiest part of the data analysis process, and there's a lot of it to be done here. But stick with it: once you're done with this step, you'll be ready to get to the machine learning parts of the project!"
   ]
  },
  {
   "cell_type": "code",
   "execution_count": 25,
   "metadata": {},
   "outputs": [
    {
     "data": {
      "text/plain": [
       "(85, 4)"
      ]
     },
     "execution_count": 25,
     "metadata": {},
     "output_type": "execute_result"
    }
   ],
   "source": [
    "feat_info.shape"
   ]
  },
  {
   "cell_type": "code",
   "execution_count": 26,
   "metadata": {},
   "outputs": [
    {
     "data": {
      "text/plain": [
       "(79, 4)"
      ]
     },
     "execution_count": 26,
     "metadata": {},
     "output_type": "execute_result"
    }
   ],
   "source": [
    "# first lets remove the rows that belong to the outlier columns\n",
    "for name in outlier_columns:\n",
    "    feat_info.drop(feat_info[feat_info['attribute'] == name].index, inplace = True)\n",
    "feat_info.shape"
   ]
  },
  {
   "cell_type": "code",
   "execution_count": 27,
   "metadata": {},
   "outputs": [
    {
     "data": {
      "text/plain": [
       "ordinal        49\n",
       "categorical    18\n",
       "numeric         6\n",
       "mixed           6\n",
       "Name: type, dtype: int64"
      ]
     },
     "execution_count": 27,
     "metadata": {},
     "output_type": "execute_result"
    }
   ],
   "source": [
    "# How many features are there of each data type?\n",
    "feat_info.type.value_counts()"
   ]
  },
  {
   "cell_type": "code",
   "execution_count": 28,
   "metadata": {},
   "outputs": [
    {
     "name": "stdout",
     "output_type": "stream",
     "text": [
      "we have: 18 categoreical columns\n"
     ]
    }
   ],
   "source": [
    "# creating a list to hold the all of the categorical columns\n",
    "cat_col = feat_info[feat_info['type'] == 'categorical']['attribute'].values.tolist()\n",
    "\n",
    "print(f\"we have: {len(cat_col)} categoreical columns\")"
   ]
  },
  {
   "cell_type": "code",
   "execution_count": 29,
   "metadata": {},
   "outputs": [
    {
     "data": {
      "text/plain": [
       "['ANREDE_KZ',\n",
       " 'CJT_GESAMTTYP',\n",
       " 'FINANZTYP',\n",
       " 'GFK_URLAUBERTYP',\n",
       " 'GREEN_AVANTGARDE',\n",
       " 'LP_FAMILIE_FEIN',\n",
       " 'LP_FAMILIE_GROB',\n",
       " 'LP_STATUS_FEIN',\n",
       " 'LP_STATUS_GROB',\n",
       " 'NATIONALITAET_KZ',\n",
       " 'SHOPPER_TYP',\n",
       " 'SOHO_KZ',\n",
       " 'VERS_TYP',\n",
       " 'ZABEOTYP',\n",
       " 'GEBAEUDETYP',\n",
       " 'OST_WEST_KZ',\n",
       " 'CAMEO_DEUG_2015',\n",
       " 'CAMEO_DEU_2015']"
      ]
     },
     "execution_count": 29,
     "metadata": {},
     "output_type": "execute_result"
    }
   ],
   "source": [
    "cat_col"
   ]
  },
  {
   "cell_type": "markdown",
   "metadata": {},
   "source": [
    "#### Step 1.2.1: Re-Encode Categorical Features\n",
    "\n",
    "For categorical data, you would ordinarily need to encode the levels as dummy variables. Depending on the number of categories, perform one of the following:\n",
    "- For binary (two-level) categoricals that take numeric values, you can keep them without needing to do anything.\n",
    "- There is one binary variable that takes on non-numeric values. For this one, you need to re-encode the values as numbers or create a dummy variable.\n",
    "- For multi-level categoricals (three or more values), you can choose to encode the values using multiple dummy variables (e.g. via [OneHotEncoder](http://scikit-learn.org/stable/modules/generated/sklearn.preprocessing.OneHotEncoder.html)), or (to keep things straightforward) just drop them from the analysis. As always, document your choices in the Discussion section."
   ]
  },
  {
   "cell_type": "code",
   "execution_count": 30,
   "metadata": {},
   "outputs": [
    {
     "name": "stdout",
     "output_type": "stream",
     "text": [
      "Now we have: 13 Multi_level (Three or more) categorical variable\n",
      "And we have: 5 Two_level (Binary) categorical variable\n"
     ]
    }
   ],
   "source": [
    "# Assess categorical variables: which are binary, which are multi-level, and\n",
    "# which one needs to be re-encoded?\n",
    "# creating a list to hold the features names that have more than two values \n",
    "multi_lev_cat = [i for i in cat_col if len(no_nan_rows[i].value_counts())>2]\n",
    "# this list is for binary features valeus \n",
    "two_lev_cat = [i for i in cat_col if len(no_nan_rows[i].value_counts())==2]\n",
    "print(f\"Now we have: {len(multi_lev_cat)} Multi_level (Three or more) categorical variable\")\n",
    "print(f\"And we have: {len(two_lev_cat)} Two_level (Binary) categorical variable\")"
   ]
  },
  {
   "cell_type": "code",
   "execution_count": 31,
   "metadata": {},
   "outputs": [
    {
     "name": "stderr",
     "output_type": "stream",
     "text": [
      "/opt/conda/lib/python3.6/site-packages/pandas/core/frame.py:3697: SettingWithCopyWarning: \n",
      "A value is trying to be set on a copy of a slice from a DataFrame\n",
      "\n",
      "See the caveats in the documentation: http://pandas.pydata.org/pandas-docs/stable/indexing.html#indexing-view-versus-copy\n",
      "  errors=errors)\n"
     ]
    }
   ],
   "source": [
    "# Droping the multi level categorical variables\n",
    "no_nan_rows.drop(multi_lev_cat, inplace=True, axis=1)"
   ]
  },
  {
   "cell_type": "code",
   "execution_count": 32,
   "metadata": {},
   "outputs": [
    {
     "name": "stdout",
     "output_type": "stream",
     "text": [
      "['ANREDE_KZ', 'GREEN_AVANTGARDE', 'SOHO_KZ', 'VERS_TYP', 'OST_WEST_KZ']\n"
     ]
    }
   ],
   "source": [
    "print(two_lev_cat)"
   ]
  },
  {
   "cell_type": "code",
   "execution_count": 33,
   "metadata": {},
   "outputs": [
    {
     "data": {
      "text/plain": [
       "(623209, 66)"
      ]
     },
     "execution_count": 33,
     "metadata": {},
     "output_type": "execute_result"
    }
   ],
   "source": [
    "no_nan_rows.shape"
   ]
  },
  {
   "cell_type": "code",
   "execution_count": 34,
   "metadata": {},
   "outputs": [
    {
     "name": "stdout",
     "output_type": "stream",
     "text": [
      "Column Name: ANREDE_KZ\n",
      "Info: Float64Index([2.0, 1.0], dtype='float64')\n",
      "\n",
      "Column Name: GREEN_AVANTGARDE\n",
      "Info: Int64Index([0, 1], dtype='int64')\n",
      "\n",
      "Column Name: SOHO_KZ\n",
      "Info: Float64Index([0.0, 1.0], dtype='float64')\n",
      "\n",
      "Column Name: VERS_TYP\n",
      "Info: Float64Index([2.0, 1.0], dtype='float64')\n",
      "\n",
      "Column Name: OST_WEST_KZ\n",
      "Info: Index(['W', 'O'], dtype='object')\n",
      "\n"
     ]
    }
   ],
   "source": [
    "for column in two_lev_cat:\n",
    "    # because we need to find the column with non numric values this code will print the columns and the information we need\n",
    "    print(f\"Column Name: {column}\\nInfo: {no_nan_rows[column].value_counts().index}\\n\")"
   ]
  },
  {
   "cell_type": "markdown",
   "metadata": {},
   "source": [
    "- so only OST_West_KZ column doesn't have numric values so we can replace the W with 0 and O with 1"
   ]
  },
  {
   "cell_type": "code",
   "execution_count": 35,
   "metadata": {},
   "outputs": [
    {
     "name": "stdout",
     "output_type": "stream",
     "text": [
      "Column Name: OST_WEST_KZ\n",
      "Info: Int64Index([0, 1], dtype='int64')\n",
      "\n"
     ]
    },
    {
     "name": "stderr",
     "output_type": "stream",
     "text": [
      "/opt/conda/lib/python3.6/site-packages/pandas/core/generic.py:5890: SettingWithCopyWarning: \n",
      "A value is trying to be set on a copy of a slice from a DataFrame\n",
      "\n",
      "See the caveats in the documentation: http://pandas.pydata.org/pandas-docs/stable/indexing.html#indexing-view-versus-copy\n",
      "  self._update_inplace(new_data)\n"
     ]
    }
   ],
   "source": [
    "binary_values = {'W': 0, 'O': 1}\n",
    "# replace() takes a dict as an argument and replace the values of the df that matches the keyes with the values of the dict\n",
    "no_nan_rows[\"OST_WEST_KZ\"].replace(binary_values, inplace=True)\n",
    "# print confermation that OST_WEST_KZ values are now binary 0, 1 and integers\n",
    "print(f'Column Name: OST_WEST_KZ\\nInfo: {no_nan_rows[\"OST_WEST_KZ\"].value_counts().index}\\n')"
   ]
  },
  {
   "cell_type": "code",
   "execution_count": 36,
   "metadata": {},
   "outputs": [],
   "source": [
    "# there is only five categorical variables left\n",
    "# no_nan_rows.OST_WEST_KZ.value_counts()"
   ]
  },
  {
   "cell_type": "code",
   "execution_count": 37,
   "metadata": {},
   "outputs": [
    {
     "data": {
      "text/plain": [
       "['CJT_GESAMTTYP',\n",
       " 'FINANZTYP',\n",
       " 'GFK_URLAUBERTYP',\n",
       " 'LP_FAMILIE_FEIN',\n",
       " 'LP_FAMILIE_GROB',\n",
       " 'LP_STATUS_FEIN',\n",
       " 'LP_STATUS_GROB',\n",
       " 'NATIONALITAET_KZ',\n",
       " 'SHOPPER_TYP',\n",
       " 'ZABEOTYP',\n",
       " 'GEBAEUDETYP',\n",
       " 'CAMEO_DEUG_2015',\n",
       " 'CAMEO_DEU_2015']"
      ]
     },
     "execution_count": 37,
     "metadata": {},
     "output_type": "execute_result"
    }
   ],
   "source": [
    "multi_lev_cat"
   ]
  },
  {
   "cell_type": "markdown",
   "metadata": {},
   "source": [
    "#### Discussion 1.2.1: Re-Encode Categorical Features\n",
    "\n",
    "**Which ones did I keep, which onse are droped, and what engineering steps are performed?**\n",
    "- there has been 21 categorical variables in the whole df and we removed 3 of them earlier with the outlier columns\n",
    "- from the 18 left 13 of them were multi-level (had 3 or more values) so they were removed.\n",
    "- only 5 variables have been kept for this analysis one of them was not numric OST_WEST_KZ, so we used replace() to replace it's values (W, O) with (0, 1).\n",
    "- W was for West with 490879 data points and now is zero (0)\n",
    "- O was for East with 132330 data points and now is one (1)\n",
    "- the 13 we removed are : CJT_GESAMTTYP, FINANZTYP, GFK_URLAUBERTYP, LP_FAMILIE_FEIN, LP_FAMILIE_GROB, LP_STATUS_FEIN, LP_STATUS_GROB, NATIONALITAET_KZ, SHOPPER_TYP, ZABEOTYP, GEBAEUDETYP, CAMEO_DEUG_2015, CAMEO_DEU_2015\n",
    "- the 5 we kept are : ANREDE_KZ, GREEN_AVANTGARDE, SOHO_KZ, VERS_TYP, OST_WEST_KZ"
   ]
  },
  {
   "cell_type": "markdown",
   "metadata": {},
   "source": [
    "#### Step 1.2.2: Engineer Mixed-Type Features\n",
    "\n",
    "There are a handful of features that are marked as \"mixed\" in the feature summary that require special treatment in order to be included in the analysis. There are two in particular that deserve attention; the handling of the rest are up to your own choices:\n",
    "- \"PRAEGENDE_JUGENDJAHRE\" combines information on three dimensions: generation by decade, movement (mainstream vs. avantgarde), and nation (east vs. west). While there aren't enough levels to disentangle east from west, you should create two new variables to capture the other two dimensions: an interval-type variable for decade, and a binary variable for movement.\n",
    "- \"CAMEO_INTL_2015\" combines information on two axes: wealth and life stage. Break up the two-digit codes by their 'tens'-place and 'ones'-place digits into two new ordinal variables (which, for the purposes of this project, is equivalent to just treating them as their raw numeric values).\n",
    "- If you decide to keep or engineer new features around the other mixed-type features, make sure you note your steps in the Discussion section.\n",
    "\n",
    "Be sure to check `Data_Dictionary.md` for the details needed to finish these tasks."
   ]
  },
  {
   "cell_type": "code",
   "execution_count": 38,
   "metadata": {},
   "outputs": [
    {
     "name": "stdout",
     "output_type": "stream",
     "text": [
      "There are 6 mixed features in the dataset.\n",
      "And they are :['LP_LEBENSPHASE_FEIN', 'LP_LEBENSPHASE_GROB', 'PRAEGENDE_JUGENDJAHRE', 'WOHNLAGE', 'CAMEO_INTL_2015', 'PLZ8_BAUMAX']\n"
     ]
    }
   ],
   "source": [
    "# creating a list to hold all of the  mixed columns\n",
    "mixed_variables = feat_info[feat_info['type'] == 'mixed']['attribute'].values.tolist()\n",
    "print(f'There are {len(mixed_variables)} mixed features in the dataset.\\nAnd they are :{mixed_variables}')"
   ]
  },
  {
   "cell_type": "code",
   "execution_count": 39,
   "metadata": {},
   "outputs": [
    {
     "data": {
      "text/plain": [
       "(623209, 66)"
      ]
     },
     "execution_count": 39,
     "metadata": {},
     "output_type": "execute_result"
    }
   ],
   "source": [
    "no_nan_rows.shape"
   ]
  },
  {
   "cell_type": "code",
   "execution_count": 40,
   "metadata": {},
   "outputs": [
    {
     "name": "stderr",
     "output_type": "stream",
     "text": [
      "/opt/conda/lib/python3.6/site-packages/ipykernel_launcher.py:6: SettingWithCopyWarning: \n",
      "A value is trying to be set on a copy of a slice from a DataFrame.\n",
      "Try using .loc[row_indexer,col_indexer] = value instead\n",
      "\n",
      "See the caveats in the documentation: http://pandas.pydata.org/pandas-docs/stable/indexing.html#indexing-view-versus-copy\n",
      "  \n",
      "/opt/conda/lib/python3.6/site-packages/ipykernel_launcher.py:7: SettingWithCopyWarning: \n",
      "A value is trying to be set on a copy of a slice from a DataFrame.\n",
      "Try using .loc[row_indexer,col_indexer] = value instead\n",
      "\n",
      "See the caveats in the documentation: http://pandas.pydata.org/pandas-docs/stable/indexing.html#indexing-view-versus-copy\n",
      "  import sys\n",
      "/opt/conda/lib/python3.6/site-packages/pandas/core/generic.py:5890: SettingWithCopyWarning: \n",
      "A value is trying to be set on a copy of a slice from a DataFrame\n",
      "\n",
      "See the caveats in the documentation: http://pandas.pydata.org/pandas-docs/stable/indexing.html#indexing-view-versus-copy\n",
      "  self._update_inplace(new_data)\n"
     ]
    }
   ],
   "source": [
    "# Creating two dictionaries to hold the values that are going to be replaced as the key with the value as replacement.\n",
    "decade_dict = {1:40, 2:40, 3:50, 4:50, 5:60, 6:60, 7:60, 8:70, 9:70, 10:80, 11:80, 12:80, 13:80, 14:90, 15:90}\n",
    "movement_dict = {2:0, 3:1, 4:0, 5:1, 6:0, 7:0, 8:1, 9:0, 10:1, 11:0, 12:1, 13:0, 14:1, 15:0}\n",
    "\n",
    "# Creating two columns that will hold the same values as PRAEGENDE_JUGENDJAHRE have\n",
    "no_nan_rows['DECADE'] = no_nan_rows['PRAEGENDE_JUGENDJAHRE']\n",
    "no_nan_rows['MOVEMENT'] = no_nan_rows['PRAEGENDE_JUGENDJAHRE']\n",
    "\n",
    "# replacing the values in the two columns with the onse in the dictionaries valuse\n",
    "no_nan_rows[\"DECADE\"].replace(decade_dict, inplace=True)\n",
    "no_nan_rows[\"MOVEMENT\"].replace(movement_dict, inplace=True)"
   ]
  },
  {
   "cell_type": "code",
   "execution_count": 41,
   "metadata": {},
   "outputs": [
    {
     "data": {
      "text/plain": [
       "(623209, 68)"
      ]
     },
     "execution_count": 41,
     "metadata": {},
     "output_type": "execute_result"
    }
   ],
   "source": [
    "no_nan_rows.shape"
   ]
  },
  {
   "cell_type": "code",
   "execution_count": 42,
   "metadata": {},
   "outputs": [
    {
     "name": "stderr",
     "output_type": "stream",
     "text": [
      "/opt/conda/lib/python3.6/site-packages/ipykernel_launcher.py:17: SettingWithCopyWarning: \n",
      "A value is trying to be set on a copy of a slice from a DataFrame.\n",
      "Try using .loc[row_indexer,col_indexer] = value instead\n",
      "\n",
      "See the caveats in the documentation: http://pandas.pydata.org/pandas-docs/stable/indexing.html#indexing-view-versus-copy\n",
      "/opt/conda/lib/python3.6/site-packages/ipykernel_launcher.py:18: SettingWithCopyWarning: \n",
      "A value is trying to be set on a copy of a slice from a DataFrame.\n",
      "Try using .loc[row_indexer,col_indexer] = value instead\n",
      "\n",
      "See the caveats in the documentation: http://pandas.pydata.org/pandas-docs/stable/indexing.html#indexing-view-versus-copy\n",
      "/opt/conda/lib/python3.6/site-packages/pandas/core/generic.py:5890: SettingWithCopyWarning: \n",
      "A value is trying to be set on a copy of a slice from a DataFrame\n",
      "\n",
      "See the caveats in the documentation: http://pandas.pydata.org/pandas-docs/stable/indexing.html#indexing-view-versus-copy\n",
      "  self._update_inplace(new_data)\n"
     ]
    }
   ],
   "source": [
    "# Investigate \"CAMEO_INTL_2015\" and engineer two new variables.\n",
    "# (11:15 replaced by 1), (21:25 replaced by 2), (31:35 replaced by 3), (41:45 replaced by 4), (51:55 replaced by 5)\n",
    "wealth_dict = {'11':1, '12':1, '13':1, '14':1, '15':1,\n",
    "               '21':2, '22':2, '23':2, '24':2, '25':2,\n",
    "               '31':3, '32':3, '33':3, '34':3, '35':3,\n",
    "               '41':4, '42':4, '43':4, '44':4, '45':4,\n",
    "               '51':5, '52':5, '53':5, '54':5, '55':5,}\n",
    "\n",
    "# (11 ,21, 31, 41, 51 replaced by 1), (12, 22, 32, 42, 52 replaced by 2), (13, 23, 33, 43, 53 replaced by 3),\n",
    "# (14, 24, 34, 54, 55 replaced by 4), (15, 25, 34, 45, 55 replaced by 5)\n",
    "life_stage_dict = {'11':1, '12':2, '13':3, '14':4, '15':5,\n",
    "                   '21':1, '22':2, '23':3, '24':4, '25':5,\n",
    "                   '31':1, '32':2, '33':3, '34':4, '35':5,\n",
    "                   '41':1, '42':2, '43':3, '44':4, '45':5,\n",
    "                   '51':1, '52':2, '53':3, '54':4, '55':5,}\n",
    "\n",
    "no_nan_rows['WEALTH'] = no_nan_rows['CAMEO_INTL_2015']\n",
    "no_nan_rows['LIFE_STAGE'] = no_nan_rows['CAMEO_INTL_2015']\n",
    "\n",
    "no_nan_rows[\"WEALTH\"].replace(wealth_dict, inplace=True)\n",
    "no_nan_rows[\"LIFE_STAGE\"].replace(life_stage_dict, inplace=True)"
   ]
  },
  {
   "cell_type": "code",
   "execution_count": 43,
   "metadata": {},
   "outputs": [
    {
     "data": {
      "text/plain": [
       "(623209, 70)"
      ]
     },
     "execution_count": 43,
     "metadata": {},
     "output_type": "execute_result"
    }
   ],
   "source": [
    "no_nan_rows.shape"
   ]
  },
  {
   "cell_type": "code",
   "execution_count": 44,
   "metadata": {},
   "outputs": [
    {
     "name": "stderr",
     "output_type": "stream",
     "text": [
      "/opt/conda/lib/python3.6/site-packages/pandas/core/frame.py:3697: SettingWithCopyWarning: \n",
      "A value is trying to be set on a copy of a slice from a DataFrame\n",
      "\n",
      "See the caveats in the documentation: http://pandas.pydata.org/pandas-docs/stable/indexing.html#indexing-view-versus-copy\n",
      "  errors=errors)\n"
     ]
    }
   ],
   "source": [
    "droped_mixed_columns = ['PRAEGENDE_JUGENDJAHRE', 'CAMEO_INTL_2015', 'LP_LEBENSPHASE_FEIN', 'LP_LEBENSPHASE_GROB']\n",
    "no_nan_rows.drop(droped_mixed_columns, inplace=True, axis=1)"
   ]
  },
  {
   "cell_type": "code",
   "execution_count": 45,
   "metadata": {},
   "outputs": [
    {
     "data": {
      "text/plain": [
       "(623209, 66)"
      ]
     },
     "execution_count": 45,
     "metadata": {},
     "output_type": "execute_result"
    }
   ],
   "source": [
    "no_nan_rows.shape"
   ]
  },
  {
   "cell_type": "markdown",
   "metadata": {},
   "source": [
    "#### Discussion 1.2.2: Engineer Mixed-Type Features\n",
    "\n",
    "**which columnds did I keep and which are droped? :**\n",
    "- There are 6 mixed variabels in the df 'LP_LEBENSPHASE_FEIN', 'LP_LEBENSPHASE_GROB', 'PRAEGENDE_JUGENDJAHRE', 'WOHNLAGE','CAMEO_INTL_2015','PLZ8_BAUMAX\n",
    "- LP_LEBENSPHASE_FEIN and LP_LEBENSPHASE_GROB are removed without replacement.\n",
    "- PRAEGENDE_JUGENDJAHRE replaced by two columns (DECADE, MOVEMENT)\n",
    "- CAMEO_INTL_2015 replaced by two columns (WEALTH, LIFE_STAGE).\n",
    "\n",
    "**what engineering steps are performed?**\n",
    "- the PRAEGENDE_JUGENDJAHRE had values range from 1:15 and each number represent two things a decade and movement (originaly they represent more but we only kept these two) so we created the DECADE columns with the same values as PRAEGENDE_JUGENDJAHRE then we replaced the values in it with the corresponding decade using the decade dictionary and we did the same with the MOVEMENT column using the movement dictionary. \n",
    "- for the CAMEO_INTL_2015 column we did the same as for PRAEGENDE_JUGENDJAHRE column and replaced it with WEALTH, LIFE_STAGE columns using wealth, life_stage dictionaries.\n",
    "\n",
    "**The four dictionaries we used in this process was created manually using the information in the Data_Dictionary.md file.**"
   ]
  },
  {
   "cell_type": "markdown",
   "metadata": {},
   "source": [
    "#### Step 1.2.3: Complete Feature Selection\n",
    "\n",
    "In order to finish this step up, you need to make sure that your data frame now only has the columns that you want to keep. To summarize, the dataframe should consist of the following:\n",
    "- All numeric, interval, and ordinal type columns from the original dataset.\n",
    "- Binary categorical features (all numerically-encoded).\n",
    "- Engineered features from other multi-level categorical features and mixed features.\n",
    "\n",
    "Make sure that for any new columns that you have engineered, that you've excluded the original columns from the final dataset. Otherwise, their values will interfere with the analysis later on the project. For example, you should not keep \"PRAEGENDE_JUGENDJAHRE\", since its values won't be useful for the algorithm: only the values derived from it in the engineered features you created should be retained. As a reminder, your data should only be from **the subset with few or no missing values**."
   ]
  },
  {
   "cell_type": "code",
   "execution_count": 48,
   "metadata": {},
   "outputs": [
    {
     "name": "stdout",
     "output_type": "stream",
     "text": [
      "No column has missing values or the wrong data type and all ready to go.\n"
     ]
    }
   ],
   "source": [
    "# If there are other re-engineering tasks you need to perform, make sure you\n",
    "# take care of them here. (Dealing with missing data will come in step 2.1.)\n",
    "\n",
    "df_columns = no_nan_rows.columns.tolist()\n",
    "ready_columns = 0\n",
    "for column in df_columns:\n",
    "    data_type = no_nan_rows[column].dtype\n",
    "    # This for loop will go through every columns and check if it has any null valus and will also check if the columns \n",
    "    # data type is not numric.\n",
    "    if no_nan_rows[column].isna().sum() > 0 :\n",
    "        # if true the column name will be printed\n",
    "        print(f'Column {column} has missing values')\n",
    "    elif data_type == object or data_type == bool or data_type == 'datetime64':\n",
    "        # if true the column name will be printed\n",
    "        print(f'Column {column} has the wrong data type.')\n",
    "    # if both statement are false the else statement will be triggered and columns that are ready count will be increased.\n",
    "    else:\n",
    "        ready_columns += 1\n",
    "    # finally a confirmation will be printed only if the number of ready columns matches the number of column in our dataset.\n",
    "    # meaning that all columns have no null values and also all are numric.\n",
    "    if ready_columns == len(df_columns):\n",
    "        print('No column has missing values or the wrong data type and all ready to go.')"
   ]
  },
  {
   "cell_type": "markdown",
   "metadata": {},
   "source": [
    "### Step 1.3: Create a Cleaning Function\n",
    "\n",
    "Even though you've finished cleaning up the general population demographics data, it's important to look ahead to the future and realize that you'll need to perform the same cleaning steps on the customer demographics data. In this substep, complete the function below to execute the main feature selection, encoding, and re-engineering steps you performed above. Then, when it comes to looking at the customer data in Step 3, you can just run this function on that DataFrame to get the trimmed dataset in a single step."
   ]
  },
  {
   "cell_type": "code",
   "execution_count": 50,
   "metadata": {},
   "outputs": [],
   "source": [
    "def clean_data(df):\n",
    "    \"\"\"\n",
    "    Perform feature trimming, re-encoding, and engineering for demographics\n",
    "    data\n",
    "    \n",
    "    INPUT: Demographics DataFrame\n",
    "    OUTPUT: Trimmed and cleaned demographics DataFrame\n",
    "    \"\"\"\n",
    "    # Put in code here to execute all main cleaning steps:\n",
    "    # convert missing value codes into NaNs, ...\n",
    "    for column in feat_info_2['attribute']:\n",
    "        for value in feat_info_2[feat_info_2['attribute'] == column]['missing_or_unknown'].values[0]:\n",
    "            if value == 'X':\n",
    "                df[column] = np.where(df[column] == value, np.NaN, df[column])\n",
    "            elif value == 'XX':\n",
    "                df[column] = np.where(df[column] == value, np.NaN, df[column])\n",
    "            else:\n",
    "                df[column] = np.where(df[column] == int(value), np.NaN, df[column])\n",
    "            \n",
    "    # remove selected columns and rows, ...\n",
    "    outlier_columns = ['AGER_TYP', 'GEBURTSJAHR', 'TITEL_KZ', 'ALTER_HH', 'KK_KUNDENTYP', 'KBA05_BAUMAX']\n",
    "    df = df.drop(outlier_columns, axis=1)\n",
    "    # split into two subsets...\n",
    "    num_nan_in_rows = df.isnull().sum(axis=1).tolist()\n",
    "    no_NaN_df = pd.DataFrame(columns=df.columns)\n",
    "    all_NaN_df = pd.DataFrame(columns=df.columns)\n",
    "    low_indexes = []\n",
    "    high_indexes = []\n",
    "    threshold = 0\n",
    "    for index, value in enumerate(num_nan_in_rows):\n",
    "        if value == threshold:\n",
    "            low_indexes.append(index)\n",
    "        elif value > threshold:\n",
    "            high_indexes.append(index)\n",
    "    no_NaN_df = no_NaN_df.append(df.iloc[low_indexes])\n",
    "    all_NaN_df = all_NaN_df.append(df.iloc[high_indexes])\n",
    "    \n",
    "    # select, re-encode, and engineer column values.\n",
    "    all_cat_col = feat_info[feat_info['type'] == 'categorical']['attribute'].values.tolist()\n",
    "    \n",
    "    cat_col = [x for x in all_cat_col if x not in outlier_columns]\n",
    "    multi_lev_cat = [i for i in cat_col if len(no_NaN_df[i].value_counts())>2]\n",
    "    two_lev_cat = [i for i in cat_col if len(no_NaN_df[i].value_counts())==2]\n",
    "    no_NaN_df.drop(multi_lev_cat, inplace=True, axis=1)\n",
    "    binary_values = {'W': 0, 'O': 1}\n",
    "    no_NaN_df[\"OST_WEST_KZ\"].replace(binary_values, inplace=True)\n",
    "    \n",
    "    all_mixed_variables = feat_info[feat_info['type'] == 'mixed']['attribute'].values.tolist()\n",
    "    mixed_variables = [x for x in all_mixed_variables if x not in outlier_columns]\n",
    "    \n",
    "    decade_dict = {1:40, 2:40, 3:50, 4:50, 5:60, 6:60, 7:60, 8:70, 9:70, 10:80, 11:80, 12:80, 13:80, 14:90, 15:90}\n",
    "    movement_dict = {2:0, 3:1, 4:0, 5:1, 6:0, 7:0, 8:1, 9:0, 10:1, 11:0, 12:1, 13:0, 14:1, 15:0}\n",
    "    \n",
    "    no_NaN_df['DECADE'] = no_NaN_df['PRAEGENDE_JUGENDJAHRE']\n",
    "    no_NaN_df['MOVEMENT'] = no_NaN_df['PRAEGENDE_JUGENDJAHRE']\n",
    "    no_NaN_df[\"DECADE\"].replace(decade_dict, inplace=True)\n",
    "    no_NaN_df[\"MOVEMENT\"].replace(movement_dict, inplace=True)\n",
    "    \n",
    "    wealth_dict = {'11':1, '12':1, '13':1, '14':1, '15':1,\n",
    "               '21':2, '22':2, '23':2, '24':2, '25':2,\n",
    "               '31':3, '32':3, '33':3, '34':3, '35':3,\n",
    "               '41':4, '42':4, '43':4, '44':4, '45':4,\n",
    "               '51':5, '52':5, '53':5, '54':5, '55':5}\n",
    "    \n",
    "    life_stage_dict = {'11':1, '12':2, '13':3, '14':4, '15':5,\n",
    "                       '21':1, '22':2, '23':3, '24':4, '25':5,\n",
    "                       '31':1, '32':2, '33':3, '34':4, '35':5,\n",
    "                       '41':1, '42':2, '43':3, '44':4, '45':5,\n",
    "                       '51':1, '52':2, '53':3, '54':4, '55':5}\n",
    "    \n",
    "    no_NaN_df['WEALTH'] = no_NaN_df['CAMEO_INTL_2015']\n",
    "    no_NaN_df['LIFE_STAGE'] = no_NaN_df['CAMEO_INTL_2015']\n",
    "    no_NaN_df[\"WEALTH\"].replace(wealth_dict, inplace=True)\n",
    "    no_NaN_df[\"LIFE_STAGE\"].replace(life_stage_dict, inplace=True)\n",
    "    droped_mixed_columns = ['PRAEGENDE_JUGENDJAHRE', 'CAMEO_INTL_2015', 'LP_LEBENSPHASE_FEIN', 'LP_LEBENSPHASE_GROB']\n",
    "    cleaned_df = no_NaN_df.drop(droped_mixed_columns, axis=1)\n",
    "    # Return the cleaned dataframe.\n",
    "    return cleaned_df\n",
    "    \n",
    "    "
   ]
  },
  {
   "cell_type": "markdown",
   "metadata": {},
   "source": [
    "## Step 2: Feature Transformation\n",
    "\n",
    "### Step 2.1: Apply Feature Scaling\n",
    "\n",
    "Before we apply dimensionality reduction techniques to the data, we need to perform feature scaling so that the principal component vectors are not influenced by the natural differences in scale for features. Starting from this part of the project, you'll want to keep an eye on the [API reference page for sklearn](http://scikit-learn.org/stable/modules/classes.html) to help you navigate to all of the classes and functions that you'll need. In this substep, you'll need to check the following:\n",
    "\n",
    "- sklearn requires that data not have missing values in order for its estimators to work properly. So, before applying the scaler to your data, make sure that you've cleaned the DataFrame of the remaining missing values. This can be as simple as just removing all data points with missing data, or applying an [Imputer](https://scikit-learn.org/0.16/modules/generated/sklearn.preprocessing.Imputer.html) to replace all missing values. You might also try a more complicated procedure where you temporarily remove missing values in order to compute the scaling parameters before re-introducing those missing values and applying imputation. Think about how much missing data you have and what possible effects each approach might have on your analysis, and justify your decision in the discussion section below.\n",
    "- For the actual scaling function, a [StandardScaler](http://scikit-learn.org/stable/modules/generated/sklearn.preprocessing.StandardScaler.html) instance is suggested, scaling each feature to mean 0 and standard deviation 1.\n",
    "- For these classes, you can make use of the `.fit_transform()` method to both fit a procedure to the data as well as apply the transformation to the data at the same time. Don't forget to keep the fit sklearn objects handy, since you'll be applying them to the customer demographics data towards the end of the project."
   ]
  },
  {
   "cell_type": "code",
   "execution_count": 51,
   "metadata": {},
   "outputs": [
    {
     "name": "stdout",
     "output_type": "stream",
     "text": [
      "Number of NaN values in the dataset is: 0\n"
     ]
    }
   ],
   "source": [
    "# If you've not yet cleaned the dataset of all NaN values, then investigate and\n",
    "# do that now.\n",
    "print(f'Number of NaN values in the dataset is: {no_nan_rows.isna().sum().sum()}')"
   ]
  },
  {
   "cell_type": "code",
   "execution_count": 52,
   "metadata": {},
   "outputs": [],
   "source": [
    "# Apply feature scaling to the general population demographics data.\n",
    "from sklearn import preprocessing as p"
   ]
  },
  {
   "cell_type": "code",
   "execution_count": 53,
   "metadata": {},
   "outputs": [
    {
     "name": "stdout",
     "output_type": "stream",
     "text": [
      "(623209, 66)\n"
     ]
    },
    {
     "data": {
      "text/html": [
       "<div>\n",
       "<style scoped>\n",
       "    .dataframe tbody tr th:only-of-type {\n",
       "        vertical-align: middle;\n",
       "    }\n",
       "\n",
       "    .dataframe tbody tr th {\n",
       "        vertical-align: top;\n",
       "    }\n",
       "\n",
       "    .dataframe thead th {\n",
       "        text-align: right;\n",
       "    }\n",
       "</style>\n",
       "<table border=\"1\" class=\"dataframe\">\n",
       "  <thead>\n",
       "    <tr style=\"text-align: right;\">\n",
       "      <th></th>\n",
       "      <th>ALTERSKATEGORIE_GROB</th>\n",
       "      <th>ANREDE_KZ</th>\n",
       "      <th>FINANZ_MINIMALIST</th>\n",
       "      <th>FINANZ_SPARER</th>\n",
       "      <th>FINANZ_VORSORGER</th>\n",
       "      <th>FINANZ_ANLEGER</th>\n",
       "      <th>FINANZ_UNAUFFAELLIGER</th>\n",
       "      <th>FINANZ_HAUSBAUER</th>\n",
       "      <th>GREEN_AVANTGARDE</th>\n",
       "      <th>HEALTH_TYP</th>\n",
       "      <th>...</th>\n",
       "      <th>PLZ8_BAUMAX</th>\n",
       "      <th>PLZ8_HHZ</th>\n",
       "      <th>PLZ8_GBZ</th>\n",
       "      <th>ARBEIT</th>\n",
       "      <th>ORTSGR_KLS9</th>\n",
       "      <th>RELAT_AB</th>\n",
       "      <th>DECADE</th>\n",
       "      <th>MOVEMENT</th>\n",
       "      <th>WEALTH</th>\n",
       "      <th>LIFE_STAGE</th>\n",
       "    </tr>\n",
       "  </thead>\n",
       "  <tbody>\n",
       "    <tr>\n",
       "      <th>0</th>\n",
       "      <td>-1.746291</td>\n",
       "      <td>0.977825</td>\n",
       "      <td>-1.512224</td>\n",
       "      <td>1.581058</td>\n",
       "      <td>-1.045042</td>\n",
       "      <td>1.539058</td>\n",
       "      <td>1.047073</td>\n",
       "      <td>1.340482</td>\n",
       "      <td>-0.553670</td>\n",
       "      <td>1.044647</td>\n",
       "      <td>...</td>\n",
       "      <td>-0.667337</td>\n",
       "      <td>1.441599</td>\n",
       "      <td>0.583438</td>\n",
       "      <td>-0.201181</td>\n",
       "      <td>-0.171845</td>\n",
       "      <td>0.656462</td>\n",
       "      <td>1.164454</td>\n",
       "      <td>0.553670</td>\n",
       "      <td>1.147882</td>\n",
       "      <td>-1.251108</td>\n",
       "    </tr>\n",
       "    <tr>\n",
       "      <th>1</th>\n",
       "      <td>0.202107</td>\n",
       "      <td>0.977825</td>\n",
       "      <td>-1.512224</td>\n",
       "      <td>0.900443</td>\n",
       "      <td>-1.765051</td>\n",
       "      <td>-0.531628</td>\n",
       "      <td>0.318373</td>\n",
       "      <td>1.340482</td>\n",
       "      <td>1.806129</td>\n",
       "      <td>1.044647</td>\n",
       "      <td>...</td>\n",
       "      <td>-0.667337</td>\n",
       "      <td>0.400949</td>\n",
       "      <td>0.583438</td>\n",
       "      <td>-0.201181</td>\n",
       "      <td>-0.171845</td>\n",
       "      <td>-0.823844</td>\n",
       "      <td>1.164454</td>\n",
       "      <td>-1.806129</td>\n",
       "      <td>-0.909997</td>\n",
       "      <td>0.749822</td>\n",
       "    </tr>\n",
       "    <tr>\n",
       "      <th>2</th>\n",
       "      <td>0.202107</td>\n",
       "      <td>-1.022678</td>\n",
       "      <td>0.692406</td>\n",
       "      <td>0.219828</td>\n",
       "      <td>0.394976</td>\n",
       "      <td>-1.221857</td>\n",
       "      <td>0.318373</td>\n",
       "      <td>-0.856545</td>\n",
       "      <td>-0.553670</td>\n",
       "      <td>1.044647</td>\n",
       "      <td>...</td>\n",
       "      <td>0.009742</td>\n",
       "      <td>-0.639702</td>\n",
       "      <td>-0.314764</td>\n",
       "      <td>0.809743</td>\n",
       "      <td>0.263748</td>\n",
       "      <td>1.396614</td>\n",
       "      <td>-0.213400</td>\n",
       "      <td>0.553670</td>\n",
       "      <td>0.461922</td>\n",
       "      <td>0.082845</td>\n",
       "    </tr>\n",
       "    <tr>\n",
       "      <th>3</th>\n",
       "      <td>-1.746291</td>\n",
       "      <td>0.977825</td>\n",
       "      <td>-0.042471</td>\n",
       "      <td>-1.141401</td>\n",
       "      <td>1.114984</td>\n",
       "      <td>-0.531628</td>\n",
       "      <td>-0.410328</td>\n",
       "      <td>1.340482</td>\n",
       "      <td>-0.553670</td>\n",
       "      <td>1.044647</td>\n",
       "      <td>...</td>\n",
       "      <td>-0.667337</td>\n",
       "      <td>1.441599</td>\n",
       "      <td>1.481640</td>\n",
       "      <td>-1.212105</td>\n",
       "      <td>-1.043032</td>\n",
       "      <td>-0.083691</td>\n",
       "      <td>-1.591253</td>\n",
       "      <td>0.553670</td>\n",
       "      <td>1.147882</td>\n",
       "      <td>0.749822</td>\n",
       "    </tr>\n",
       "    <tr>\n",
       "      <th>4</th>\n",
       "      <td>-0.772092</td>\n",
       "      <td>0.977825</td>\n",
       "      <td>-1.512224</td>\n",
       "      <td>1.581058</td>\n",
       "      <td>-1.765051</td>\n",
       "      <td>1.539058</td>\n",
       "      <td>1.047073</td>\n",
       "      <td>-0.124203</td>\n",
       "      <td>-0.553670</td>\n",
       "      <td>-0.273496</td>\n",
       "      <td>...</td>\n",
       "      <td>-0.667337</td>\n",
       "      <td>1.441599</td>\n",
       "      <td>1.481640</td>\n",
       "      <td>0.809743</td>\n",
       "      <td>0.263748</td>\n",
       "      <td>-0.083691</td>\n",
       "      <td>0.475527</td>\n",
       "      <td>0.553670</td>\n",
       "      <td>-0.909997</td>\n",
       "      <td>-0.584131</td>\n",
       "    </tr>\n",
       "  </tbody>\n",
       "</table>\n",
       "<p>5 rows × 66 columns</p>\n",
       "</div>"
      ],
      "text/plain": [
       "   ALTERSKATEGORIE_GROB  ANREDE_KZ  FINANZ_MINIMALIST  FINANZ_SPARER  \\\n",
       "0             -1.746291   0.977825          -1.512224       1.581058   \n",
       "1              0.202107   0.977825          -1.512224       0.900443   \n",
       "2              0.202107  -1.022678           0.692406       0.219828   \n",
       "3             -1.746291   0.977825          -0.042471      -1.141401   \n",
       "4             -0.772092   0.977825          -1.512224       1.581058   \n",
       "\n",
       "   FINANZ_VORSORGER  FINANZ_ANLEGER  FINANZ_UNAUFFAELLIGER  FINANZ_HAUSBAUER  \\\n",
       "0         -1.045042        1.539058               1.047073          1.340482   \n",
       "1         -1.765051       -0.531628               0.318373          1.340482   \n",
       "2          0.394976       -1.221857               0.318373         -0.856545   \n",
       "3          1.114984       -0.531628              -0.410328          1.340482   \n",
       "4         -1.765051        1.539058               1.047073         -0.124203   \n",
       "\n",
       "   GREEN_AVANTGARDE  HEALTH_TYP     ...      PLZ8_BAUMAX  PLZ8_HHZ  PLZ8_GBZ  \\\n",
       "0         -0.553670    1.044647     ...        -0.667337  1.441599  0.583438   \n",
       "1          1.806129    1.044647     ...        -0.667337  0.400949  0.583438   \n",
       "2         -0.553670    1.044647     ...         0.009742 -0.639702 -0.314764   \n",
       "3         -0.553670    1.044647     ...        -0.667337  1.441599  1.481640   \n",
       "4         -0.553670   -0.273496     ...        -0.667337  1.441599  1.481640   \n",
       "\n",
       "     ARBEIT  ORTSGR_KLS9  RELAT_AB    DECADE  MOVEMENT    WEALTH  LIFE_STAGE  \n",
       "0 -0.201181    -0.171845  0.656462  1.164454  0.553670  1.147882   -1.251108  \n",
       "1 -0.201181    -0.171845 -0.823844  1.164454 -1.806129 -0.909997    0.749822  \n",
       "2  0.809743     0.263748  1.396614 -0.213400  0.553670  0.461922    0.082845  \n",
       "3 -1.212105    -1.043032 -0.083691 -1.591253  0.553670  1.147882    0.749822  \n",
       "4  0.809743     0.263748 -0.083691  0.475527  0.553670 -0.909997   -0.584131  \n",
       "\n",
       "[5 rows x 66 columns]"
      ]
     },
     "execution_count": 53,
     "metadata": {},
     "output_type": "execute_result"
    }
   ],
   "source": [
    "# creating the scaler form Standard Scaler()\n",
    "scaler = p.StandardScaler()\n",
    "# apply transformation and fit the data\n",
    "df_ss = scaler.fit_transform(no_nan_rows)\n",
    "scal_azdias = pd.DataFrame(df_ss) #create a dataframe\n",
    "# setting the columns for the new dataframe to be as the old one.\n",
    "scal_azdias.columns = no_nan_rows.columns\n",
    "print(scal_azdias.shape)\n",
    "scal_azdias.head()"
   ]
  },
  {
   "cell_type": "code",
   "execution_count": 54,
   "metadata": {},
   "outputs": [
    {
     "name": "stdout",
     "output_type": "stream",
     "text": [
      "(623209, 66)\n"
     ]
    },
    {
     "data": {
      "text/html": [
       "<div>\n",
       "<style scoped>\n",
       "    .dataframe tbody tr th:only-of-type {\n",
       "        vertical-align: middle;\n",
       "    }\n",
       "\n",
       "    .dataframe tbody tr th {\n",
       "        vertical-align: top;\n",
       "    }\n",
       "\n",
       "    .dataframe thead th {\n",
       "        text-align: right;\n",
       "    }\n",
       "</style>\n",
       "<table border=\"1\" class=\"dataframe\">\n",
       "  <thead>\n",
       "    <tr style=\"text-align: right;\">\n",
       "      <th></th>\n",
       "      <th>ALTERSKATEGORIE_GROB</th>\n",
       "      <th>ANREDE_KZ</th>\n",
       "      <th>FINANZ_MINIMALIST</th>\n",
       "      <th>FINANZ_SPARER</th>\n",
       "      <th>FINANZ_VORSORGER</th>\n",
       "      <th>FINANZ_ANLEGER</th>\n",
       "      <th>FINANZ_UNAUFFAELLIGER</th>\n",
       "      <th>FINANZ_HAUSBAUER</th>\n",
       "      <th>GREEN_AVANTGARDE</th>\n",
       "      <th>HEALTH_TYP</th>\n",
       "      <th>...</th>\n",
       "      <th>PLZ8_BAUMAX</th>\n",
       "      <th>PLZ8_HHZ</th>\n",
       "      <th>PLZ8_GBZ</th>\n",
       "      <th>ARBEIT</th>\n",
       "      <th>ORTSGR_KLS9</th>\n",
       "      <th>RELAT_AB</th>\n",
       "      <th>DECADE</th>\n",
       "      <th>MOVEMENT</th>\n",
       "      <th>WEALTH</th>\n",
       "      <th>LIFE_STAGE</th>\n",
       "    </tr>\n",
       "  </thead>\n",
       "  <tbody>\n",
       "    <tr>\n",
       "      <th>1</th>\n",
       "      <td>1.0</td>\n",
       "      <td>2.0</td>\n",
       "      <td>1.0</td>\n",
       "      <td>5.0</td>\n",
       "      <td>2.0</td>\n",
       "      <td>5.0</td>\n",
       "      <td>4.0</td>\n",
       "      <td>5.0</td>\n",
       "      <td>0</td>\n",
       "      <td>3.0</td>\n",
       "      <td>...</td>\n",
       "      <td>1.0</td>\n",
       "      <td>5.0</td>\n",
       "      <td>4.0</td>\n",
       "      <td>3.0</td>\n",
       "      <td>5.0</td>\n",
       "      <td>4.0</td>\n",
       "      <td>90.0</td>\n",
       "      <td>1.0</td>\n",
       "      <td>5</td>\n",
       "      <td>1</td>\n",
       "    </tr>\n",
       "    <tr>\n",
       "      <th>2</th>\n",
       "      <td>3.0</td>\n",
       "      <td>2.0</td>\n",
       "      <td>1.0</td>\n",
       "      <td>4.0</td>\n",
       "      <td>1.0</td>\n",
       "      <td>2.0</td>\n",
       "      <td>3.0</td>\n",
       "      <td>5.0</td>\n",
       "      <td>1</td>\n",
       "      <td>3.0</td>\n",
       "      <td>...</td>\n",
       "      <td>1.0</td>\n",
       "      <td>4.0</td>\n",
       "      <td>4.0</td>\n",
       "      <td>3.0</td>\n",
       "      <td>5.0</td>\n",
       "      <td>2.0</td>\n",
       "      <td>90.0</td>\n",
       "      <td>0.0</td>\n",
       "      <td>2</td>\n",
       "      <td>4</td>\n",
       "    </tr>\n",
       "    <tr>\n",
       "      <th>4</th>\n",
       "      <td>3.0</td>\n",
       "      <td>1.0</td>\n",
       "      <td>4.0</td>\n",
       "      <td>3.0</td>\n",
       "      <td>4.0</td>\n",
       "      <td>1.0</td>\n",
       "      <td>3.0</td>\n",
       "      <td>2.0</td>\n",
       "      <td>0</td>\n",
       "      <td>3.0</td>\n",
       "      <td>...</td>\n",
       "      <td>2.0</td>\n",
       "      <td>3.0</td>\n",
       "      <td>3.0</td>\n",
       "      <td>4.0</td>\n",
       "      <td>6.0</td>\n",
       "      <td>5.0</td>\n",
       "      <td>70.0</td>\n",
       "      <td>1.0</td>\n",
       "      <td>4</td>\n",
       "      <td>3</td>\n",
       "    </tr>\n",
       "    <tr>\n",
       "      <th>5</th>\n",
       "      <td>1.0</td>\n",
       "      <td>2.0</td>\n",
       "      <td>3.0</td>\n",
       "      <td>1.0</td>\n",
       "      <td>5.0</td>\n",
       "      <td>2.0</td>\n",
       "      <td>2.0</td>\n",
       "      <td>5.0</td>\n",
       "      <td>0</td>\n",
       "      <td>3.0</td>\n",
       "      <td>...</td>\n",
       "      <td>1.0</td>\n",
       "      <td>5.0</td>\n",
       "      <td>5.0</td>\n",
       "      <td>2.0</td>\n",
       "      <td>3.0</td>\n",
       "      <td>3.0</td>\n",
       "      <td>50.0</td>\n",
       "      <td>1.0</td>\n",
       "      <td>5</td>\n",
       "      <td>4</td>\n",
       "    </tr>\n",
       "    <tr>\n",
       "      <th>6</th>\n",
       "      <td>2.0</td>\n",
       "      <td>2.0</td>\n",
       "      <td>1.0</td>\n",
       "      <td>5.0</td>\n",
       "      <td>1.0</td>\n",
       "      <td>5.0</td>\n",
       "      <td>4.0</td>\n",
       "      <td>3.0</td>\n",
       "      <td>0</td>\n",
       "      <td>2.0</td>\n",
       "      <td>...</td>\n",
       "      <td>1.0</td>\n",
       "      <td>5.0</td>\n",
       "      <td>5.0</td>\n",
       "      <td>4.0</td>\n",
       "      <td>6.0</td>\n",
       "      <td>3.0</td>\n",
       "      <td>80.0</td>\n",
       "      <td>1.0</td>\n",
       "      <td>2</td>\n",
       "      <td>2</td>\n",
       "    </tr>\n",
       "  </tbody>\n",
       "</table>\n",
       "<p>5 rows × 66 columns</p>\n",
       "</div>"
      ],
      "text/plain": [
       "   ALTERSKATEGORIE_GROB  ANREDE_KZ  FINANZ_MINIMALIST  FINANZ_SPARER  \\\n",
       "1                   1.0        2.0                1.0            5.0   \n",
       "2                   3.0        2.0                1.0            4.0   \n",
       "4                   3.0        1.0                4.0            3.0   \n",
       "5                   1.0        2.0                3.0            1.0   \n",
       "6                   2.0        2.0                1.0            5.0   \n",
       "\n",
       "   FINANZ_VORSORGER  FINANZ_ANLEGER  FINANZ_UNAUFFAELLIGER  FINANZ_HAUSBAUER  \\\n",
       "1               2.0             5.0                    4.0               5.0   \n",
       "2               1.0             2.0                    3.0               5.0   \n",
       "4               4.0             1.0                    3.0               2.0   \n",
       "5               5.0             2.0                    2.0               5.0   \n",
       "6               1.0             5.0                    4.0               3.0   \n",
       "\n",
       "   GREEN_AVANTGARDE  HEALTH_TYP     ...      PLZ8_BAUMAX  PLZ8_HHZ  PLZ8_GBZ  \\\n",
       "1                 0         3.0     ...              1.0       5.0       4.0   \n",
       "2                 1         3.0     ...              1.0       4.0       4.0   \n",
       "4                 0         3.0     ...              2.0       3.0       3.0   \n",
       "5                 0         3.0     ...              1.0       5.0       5.0   \n",
       "6                 0         2.0     ...              1.0       5.0       5.0   \n",
       "\n",
       "   ARBEIT  ORTSGR_KLS9  RELAT_AB  DECADE  MOVEMENT  WEALTH  LIFE_STAGE  \n",
       "1     3.0          5.0       4.0    90.0       1.0       5           1  \n",
       "2     3.0          5.0       2.0    90.0       0.0       2           4  \n",
       "4     4.0          6.0       5.0    70.0       1.0       4           3  \n",
       "5     2.0          3.0       3.0    50.0       1.0       5           4  \n",
       "6     4.0          6.0       3.0    80.0       1.0       2           2  \n",
       "\n",
       "[5 rows x 66 columns]"
      ]
     },
     "execution_count": 54,
     "metadata": {},
     "output_type": "execute_result"
    }
   ],
   "source": [
    "print(no_nan_rows.shape)\n",
    "no_nan_rows.head()"
   ]
  },
  {
   "cell_type": "markdown",
   "metadata": {},
   "source": [
    "### Discussion 2.1: Apply Feature Scaling\n",
    "\n",
    "- No missing data in the dataset, and StandardScaler() is used to scale all the features."
   ]
  },
  {
   "cell_type": "markdown",
   "metadata": {},
   "source": [
    "### Step 2.2: Perform Dimensionality Reduction\n",
    "\n",
    "On your scaled data, you are now ready to apply dimensionality reduction techniques.\n",
    "\n",
    "- Use sklearn's [PCA](http://scikit-learn.org/stable/modules/generated/sklearn.decomposition.PCA.html) class to apply principal component analysis on the data, thus finding the vectors of maximal variance in the data. To start, you should not set any parameters (so all components are computed) or set a number of components that is at least half the number of features (so there's enough features to see the general trend in variability).\n",
    "- Check out the ratio of variance explained by each principal component as well as the cumulative variance explained. Try plotting the cumulative or sequential values using matplotlib's [`plot()`](https://matplotlib.org/api/_as_gen/matplotlib.pyplot.plot.html) function. Based on what you find, select a value for the number of transformed features you'll retain for the clustering part of the project.\n",
    "- Once you've made a choice for the number of components to keep, make sure you re-fit a PCA instance to perform the decided-on transformation."
   ]
  },
  {
   "cell_type": "code",
   "execution_count": 56,
   "metadata": {},
   "outputs": [
    {
     "data": {
      "text/plain": [
       "PCA(copy=True, iterated_power='auto', n_components=None, random_state=None,\n",
       "  svd_solver='auto', tol=0.0, whiten=False)"
      ]
     },
     "execution_count": 56,
     "metadata": {},
     "output_type": "execute_result"
    }
   ],
   "source": [
    "# Apply PCA to the data.\n",
    "from sklearn.decomposition import PCA\n",
    "pca = PCA()\n",
    "pca.fit(scal_azdias)"
   ]
  },
  {
   "cell_type": "code",
   "execution_count": 57,
   "metadata": {},
   "outputs": [],
   "source": [
    "# Investigate the variance accounted for by each principal component.\n",
    "# this function is from Udacity class room.\n",
    "def scree_plot(pca):\n",
    "    '''\n",
    "    Creates a scree plot associated with the principal components \n",
    "    \n",
    "    INPUT: pca - the result of instantian of PCA in scikit learn\n",
    "            \n",
    "    OUTPUT:\n",
    "            None\n",
    "    '''\n",
    "    num_components = len(pca.explained_variance_ratio_)\n",
    "    ind = np.arange(num_components)\n",
    "    vals = pca.explained_variance_ratio_\n",
    " \n",
    "    plt.figure(figsize=(20, 10))\n",
    "    ax = plt.subplot(111)\n",
    "    cumvals = np.cumsum(vals)\n",
    "    ax.bar(ind, vals)\n",
    "    ax.plot(ind, cumvals)\n",
    "#     for i in range(num_components):\n",
    "#         ax.annotate(r\"%s%%\" % ((str(vals[i]*100)[:4])), (ind[i]+0.2, vals[i]), va=\"bottom\", ha=\"center\", fontsize=12)\n",
    " \n",
    "    ax.xaxis.set_tick_params(width=0)\n",
    "    ax.yaxis.set_tick_params(width=2, length=12)\n",
    " \n",
    "    ax.set_xlabel(\"Principal Component\")\n",
    "    ax.set_ylabel(\"Variance Explained (%)\")\n",
    "    plt.title('Explained Variance Per Principal Component')\n",
    "    "
   ]
  },
  {
   "cell_type": "code",
   "execution_count": 58,
   "metadata": {},
   "outputs": [
    {
     "data": {
      "image/png": "[encoded data removed]",
      "text/plain": [
       "<matplotlib.figure.Figure at 0x7f8cebe7dbe0>"
      ]
     },
     "metadata": {
      "needs_background": "light"
     },
     "output_type": "display_data"
    }
   ],
   "source": [
    "scree_plot(pca)"
   ]
  },
  {
   "cell_type": "code",
   "execution_count": 60,
   "metadata": {},
   "outputs": [],
   "source": [
    "# Re-apply PCA to the data while selecting for number of components to retain.\n",
    "pca_35 = PCA(n_components=35)\n",
    "pca_azdias = pca_35.fit_transform(scal_azdias)"
   ]
  },
  {
   "cell_type": "markdown",
   "metadata": {},
   "source": [
    "### Discussion 2.2: Perform Dimensionality Reduction\n",
    "\n",
    "- first the code for the scree_plot() function is taken form one of the notebooks in Udacity course, it's not my code.\n",
    "- the pars of the figures represent the amount of variability explained by each component( or eigenvalue ), and the line gives us how much a number of component contribute to the amount of variability explained.\n",
    "- we can see that 64 component explain around 100% of variability, but we don't have to choose all of the components for example a number of componenet between 30 and 40 can give us between 85 to 90 or more variability explained so we can settle for 35 components."
   ]
  },
  {
   "cell_type": "markdown",
   "metadata": {},
   "source": [
    "### Step 2.3: Interpret Principal Components\n",
    "\n",
    "Now that we have our transformed principal components, it's a nice idea to check out the weight of each variable on the first few components to see if they can be interpreted in some fashion.\n",
    "\n",
    "As a reminder, each principal component is a unit vector that points in the direction of highest variance (after accounting for the variance captured by earlier principal components). The further a weight is from zero, the more the principal component is in the direction of the corresponding feature. If two features have large weights of the same sign (both positive or both negative), then increases in one tend expect to be associated with increases in the other. To contrast, features with different signs can be expected to show a negative correlation: increases in one variable should result in a decrease in the other.\n",
    "\n",
    "- To investigate the features, you should map each weight to their corresponding feature name, then sort the features according to weight. The most interesting features for each principal component, then, will be those at the beginning and end of the sorted list. Use the data dictionary document to help you understand these most prominent features, their relationships, and what a positive or negative value on the principal component might indicate.\n",
    "- You should investigate and interpret feature associations from the first three principal components in this substep. To help facilitate this, you should write a function that you can call at any time to print the sorted list of feature weights, for the *i*-th principal component. This might come in handy in the next step of the project, when you interpret the tendencies of the discovered clusters."
   ]
  },
  {
   "cell_type": "code",
   "execution_count": 61,
   "metadata": {},
   "outputs": [
    {
     "name": "stdout",
     "output_type": "stream",
     "text": [
      "PLZ8_ANTG3            0.220211\n",
      "PLZ8_ANTG4            0.215096\n",
      "PLZ8_BAUMAX           0.211935\n",
      "WEALTH                0.196719\n",
      "ORTSGR_KLS9           0.192247\n",
      "HH_EINKOMMEN_SCORE    0.189850\n",
      "EWDICHTE              0.188612\n",
      "KBA05_ANTG4           0.148789\n",
      "FINANZ_HAUSBAUER      0.148400\n",
      "PLZ8_ANTG2            0.145112\n",
      "Name: 0, dtype: float64\n"
     ]
    },
    {
     "data": {
      "text/plain": [
       "BALLRAUM               -0.121877\n",
       "LIFE_STAGE             -0.123100\n",
       "ALTERSKATEGORIE_GROB   -0.123234\n",
       "INNENSTADT             -0.160198\n",
       "KONSUMNAEHE            -0.160814\n",
       "PLZ8_GBZ               -0.168863\n",
       "FINANZ_MINIMALIST      -0.208946\n",
       "KBA05_GBZ              -0.209566\n",
       "KBA05_ANTG1            -0.218387\n",
       "PLZ8_ANTG1             -0.221658\n",
       "MOBI_REGIO             -0.234076\n",
       "Name: 0, dtype: float64"
      ]
     },
     "execution_count": 61,
     "metadata": {},
     "output_type": "execute_result"
    }
   ],
   "source": [
    "# Map weights for the first principal component to corresponding feature names\n",
    "# and then print the linked values, sorted by weight.\n",
    "# HINT: Try defining a function here or in a new cell that you can reuse in the\n",
    "# other cells.\n",
    "columns = list(scal_azdias.columns)\n",
    "def weights(col, pca, comp):\n",
    "    if comp <= len(pca.components_):\n",
    "        df = pd.DataFrame(pca.components_, columns=col)\n",
    "        weights = df.iloc[comp].sort_values(ascending=False)\n",
    "        return weights  \n",
    "    else:\n",
    "        print('That is not the right input, please read the docstring before continuing.')\n",
    "        \n",
    "#Plot the first component\n",
    "print(weights(columns, pca_35, 0)[:10])\n",
    "weights(columns, pca_35, 0)[-11:]"
   ]
  },
  {
   "cell_type": "code",
   "execution_count": 62,
   "metadata": {},
   "outputs": [
    {
     "name": "stdout",
     "output_type": "stream",
     "text": [
      "ALTERSKATEGORIE_GROB    0.258625\n",
      "SEMIO_ERL               0.230661\n",
      "FINANZ_VORSORGER        0.226471\n",
      "SEMIO_LUST              0.179364\n",
      "RETOURTYP_BK_S          0.164287\n",
      "SEMIO_KRIT              0.118281\n",
      "W_KEIT_KIND_HH          0.115873\n",
      "FINANZ_HAUSBAUER        0.111867\n",
      "SEMIO_KAEM              0.108145\n",
      "PLZ8_ANTG3              0.096352\n",
      "Name: 1, dtype: float64\n"
     ]
    },
    {
     "data": {
      "text/plain": [
       "FINANZ_HAUSBAUER     -0.108006\n",
       "FINANZ_ANLEGER       -0.116721\n",
       "KONSUMNAEHE          -0.126321\n",
       "WEALTH               -0.139420\n",
       "REGIOTYP             -0.196683\n",
       "INNENSTADT           -0.200490\n",
       "BALLRAUM             -0.218663\n",
       "KKK                  -0.257769\n",
       "HH_EINKOMMEN_SCORE   -0.264832\n",
       "WOHNLAGE             -0.280707\n",
       "MOVEMENT             -0.379189\n",
       "Name: 3, dtype: float64"
      ]
     },
     "execution_count": 62,
     "metadata": {},
     "output_type": "execute_result"
    }
   ],
   "source": [
    "# Map weights for the second principal component to corresponding feature names\n",
    "# and then print the linked values, sorted by weight.\n",
    "print(weights(columns, pca_35, 1)[:10])\n",
    "weights(columns, pca_35, 3)[-11:]"
   ]
  },
  {
   "cell_type": "code",
   "execution_count": 63,
   "metadata": {},
   "outputs": [
    {
     "name": "stdout",
     "output_type": "stream",
     "text": [
      "SEMIO_VERT              0.349344\n",
      "SEMIO_SOZ               0.263927\n",
      "SEMIO_FAM               0.251919\n",
      "SEMIO_KULT              0.232801\n",
      "FINANZ_MINIMALIST       0.161735\n",
      "RETOURTYP_BK_S          0.113107\n",
      "FINANZ_VORSORGER        0.096425\n",
      "W_KEIT_KIND_HH          0.090526\n",
      "ALTERSKATEGORIE_GROB    0.080293\n",
      "SEMIO_REL               0.078202\n",
      "Name: 2, dtype: float64\n"
     ]
    },
    {
     "data": {
      "text/plain": [
       "ONLINE_AFFINITAET       -0.157058\n",
       "SEMIO_RAT               -0.172601\n",
       "SEMIO_FAM               -0.177592\n",
       "FINANZ_ANLEGER          -0.204190\n",
       "SEMIO_KULT              -0.217151\n",
       "FINANZ_UNAUFFAELLIGER   -0.224634\n",
       "SEMIO_TRADV             -0.229097\n",
       "FINANZ_SPARER           -0.233790\n",
       "SEMIO_PFLICHT           -0.237544\n",
       "DECADE                  -0.248164\n",
       "SEMIO_REL               -0.261838\n",
       "Name: 1, dtype: float64"
      ]
     },
     "execution_count": 63,
     "metadata": {},
     "output_type": "execute_result"
    }
   ],
   "source": [
    "# Map weights for the third principal component to corresponding feature names\n",
    "# and then print the linked values, sorted by weight.\n",
    "print(weights(columns, pca_35, 2)[:10])\n",
    "weights(columns, pca_35, 1)[-11:]"
   ]
  },
  {
   "cell_type": "code",
   "execution_count": 64,
   "metadata": {},
   "outputs": [
    {
     "name": "stdout",
     "output_type": "stream",
     "text": [
      "GREEN_AVANTGARDE     0.379189\n",
      "EWDICHTE             0.248735\n",
      "ORTSGR_KLS9          0.242894\n",
      "ONLINE_AFFINITAET    0.136654\n",
      "SEMIO_DOM            0.122285\n",
      "Name: 3, dtype: float64\n"
     ]
    },
    {
     "data": {
      "text/plain": [
       "INNENSTADT           -0.200490\n",
       "BALLRAUM             -0.218663\n",
       "KKK                  -0.257769\n",
       "HH_EINKOMMEN_SCORE   -0.264832\n",
       "WOHNLAGE             -0.280707\n",
       "MOVEMENT             -0.379189\n",
       "Name: 3, dtype: float64"
      ]
     },
     "execution_count": 64,
     "metadata": {},
     "output_type": "execute_result"
    }
   ],
   "source": [
    "print(weights(columns, pca_35, 3)[:5])\n",
    "weights(columns, pca_35, 3)[-6:]"
   ]
  },
  {
   "cell_type": "markdown",
   "metadata": {},
   "source": [
    "### Discussion 2.3: Interpret Principal Components\n",
    "\n",
    "**reporting my observations from detailed investigation of the first few principal components generated. Can we interpret positive and negative values from them in a meaningful way?**"
   ]
  },
  {
   "cell_type": "markdown",
   "metadata": {},
   "source": [
    "### Component (1):\n",
    "\n",
    "#### positive correlation:\n",
    "- PLZ8_ANTG3(Number of 6-10 family houses in the PLZ8 region), PLZ8 macro-cell features\n",
    "- PLZ8_ANTG4(Number of 10+ family houses in the PLZ8 region), PLZ8 macro-cell features\n",
    "- PLZ8_BAUMAX(Most common building type within the PLZ8 region), PLZ8 macro-cell features\n",
    "- WEALTH(example: upper, lower, working class) , micro-cell features\n",
    "- ORTSGR_KLS9 (Size of community()), Community-level features\n",
    "\n",
    "#### negative correlation:\n",
    "- MOBI_REGIO(Movement patterns), RR1 region features\n",
    "- PLZ8_ANTG1(Number of 1-2 family houses in the PLZ8 region), PLZ8 macro-cell features\n",
    "- KBA05_ANTG1(Number of 1-2 family houses in the microcell), RR3 micro-cell features\n",
    "- KBA05_GBZ (Number of buildings in the microcell), RR3 micro-cell features\n",
    "- FINANZ_MINIMALIST (Financial typology(low financial interest)), Person-level features\n",
    "\n",
    "##### First Componenet semes influenced  by micro-cell features, small family houses in RR3 region correlate with one Personal-level feature(low financial interset) and all have a negative correlation with big family houses (+10) in PLZ8 region and also wealth and the size of community.\n",
    " .\n",
    "\n",
    "### Component (2)\n",
    "\n",
    "#### positive correlation:\n",
    "- ALTERSKATEGORIE_GROB(Estimated age based on given name analysis), Person-level features\n",
    "- SEMIO_ERL(Personality typology([event-oriented](https://www.thwink.org/sustain/glossary/EventOrientedThinking.htm#:~:text=Event%20oriented%20thinking%20sees%20the,will%20correspondingly%20change%20the%20event.))), Person-level features\n",
    "- FINANZ_VORSORGER(Financial typology(be prepared)), Person-level features\n",
    "- SEMIO_LUST(Personality typology([sensual-minded](https://www.collinsdictionary.com/dictionary/english/sensual#:~:text=1.,was%20a%20very%20sensual%20person.))), Person-level features\n",
    "- RETOURTYP_BK_S(Return type), Person-level features\n",
    "\n",
    "#### negative correlation:\n",
    "- SEMIO_REL(Personality typology(religious)), Person-level features\n",
    "- DECADE(), Person-level features\n",
    "- SEMIO_PFLICHT(Personality typology(dutiful)), Person-level features\n",
    "- FINANZ_SPARER(Financial typology(money-saver)), Person-level features\n",
    "- SEMIO_TRADV(Personality typology(tradional-minded)) , Person-level features\n",
    "\n",
    "#### here is a very intersed one as the second componenet is largly influenced by Person-level features, and we can see that Personality typology like religious, dutiful, mony-saver, tradional-minded  all have a negative correlation with Financial typology(be prepared) and Personality typolgy (event-oriented, sensual-minded) and also Age.\n",
    "\n",
    "### Component (3):\n",
    "\n",
    "#### positive correlation:\n",
    "- SEMIO_VERT(Personality typology(dreamful)), Person-level features\n",
    "- SEMIO_SOZ(Personality typology(socially-minded)), Person-level features\n",
    "- SEMIO_FAM(Personality typology(family-minded)),Person-level features\n",
    "- SEMIO_KULT(Personality typology(cultural-minded)),Person-level features\n",
    "- FINANZ_MINIMALIST(Financial typology(low financial interest)),Person-level features\n",
    "\n",
    "#### negative correlation:\n",
    "- ANREDE_KZ(Gender), Person-level features\n",
    "- SEMIO_KAEM(Personality typology([combative attitude](https://www.dictionary.com/browse/combative#:~:text=Combative%20means%20inclined%20to%20fight,prone%20to%20starting%20physical%20fights.))), Person-level features\n",
    "- SEMIO_DOM(Personality typology(dominant-minded)), Person-level features\n",
    "- SEMIO_KRIT(Personality typology(critical-minded)),Person-level features\n",
    "- SEMIO_RAT(Personality typology(rational)),Person-level features\n",
    "\n",
    "#### Here is even more interestd one the third Component all 10 (5 pos, 5 neg corr) are Person-level features and 8 of them are Perosnality typology, and you can see some personaliy traits here that gives more room for valid assumptions, -dreamful with socially, family, culturally minded correlate with low financial interest- and all have a negative correlation with -combative attitude and dominant , critical minded, with rational and Gender- ."
   ]
  },
  {
   "cell_type": "markdown",
   "metadata": {},
   "source": [
    "## Step 3: Clustering\n",
    "\n",
    "### Step 3.1: Apply Clustering to General Population\n",
    "\n",
    "You've assessed and cleaned the demographics data, then scaled and transformed them. Now, it's time to see how the data clusters in the principal components space. In this substep, you will apply k-means clustering to the dataset and use the average within-cluster distances from each point to their assigned cluster's centroid to decide on a number of clusters to keep.\n",
    "\n",
    "- Use sklearn's [KMeans](http://scikit-learn.org/stable/modules/generated/sklearn.cluster.KMeans.html#sklearn.cluster.KMeans) class to perform k-means clustering on the PCA-transformed data.\n",
    "- Then, compute the average difference from each point to its assigned cluster's center. **Hint**: The KMeans object's `.score()` method might be useful here, but note that in sklearn, scores tend to be defined so that larger is better. Try applying it to a small, toy dataset, or use an internet search to help your understanding.\n",
    "- Perform the above two steps for a number of different cluster counts. You can then see how the average distance decreases with an increasing number of clusters. However, each additional cluster provides a smaller net benefit. Use this fact to select a final number of clusters in which to group the data. **Warning**: because of the large size of the dataset, it can take a long time for the algorithm to resolve. The more clusters to fit, the longer the algorithm will take. You should test for cluster counts through at least 10 clusters to get the full picture, but you shouldn't need to test for a number of clusters above about 30.\n",
    "- Once you've selected a final number of clusters to use, re-fit a KMeans instance to perform the clustering operation. Make sure that you also obtain the cluster assignments for the general demographics data, since you'll be using them in the final Step 3.3."
   ]
  },
  {
   "cell_type": "code",
   "execution_count": 65,
   "metadata": {},
   "outputs": [
    {
     "data": {
      "text/plain": [
       "(623209, 35)"
      ]
     },
     "execution_count": 65,
     "metadata": {},
     "output_type": "execute_result"
    }
   ],
   "source": [
    "pca_azdias.shape"
   ]
  },
  {
   "cell_type": "code",
   "execution_count": 67,
   "metadata": {},
   "outputs": [
    {
     "name": "stdout",
     "output_type": "stream",
     "text": [
      "(623209,)\n",
      "(124641,)\n"
     ]
    },
    {
     "data": {
      "text/plain": [
       "(124641, 35)"
      ]
     },
     "execution_count": 67,
     "metadata": {},
     "output_type": "execute_result"
    }
   ],
   "source": [
    "# Creates a np array from 0 to len pca_azdias and shuffle it to be used as incices\n",
    "rand_idx = np.random.permutation(pca_azdias.shape[0])\n",
    "print(rand_idx.shape)\n",
    "# chossing only 20% of the shuffled incices\n",
    "size = int(rand_idx.shape[0]*0.20)\n",
    "sample_idx = rand_idx[-size:]\n",
    "print(sample_idx.shape)\n",
    "samp_pca_azdias = pca_azdias[sample_idx,:]\n",
    "samp_pca_azdias.shape"
   ]
  },
  {
   "cell_type": "code",
   "execution_count": 68,
   "metadata": {},
   "outputs": [],
   "source": [
    "from sklearn.cluster import KMeans\n",
    "def kmeans_score(data, centers):\n",
    "\n",
    "    kmeans = KMeans(n_clusters=centers)\n",
    "    model = kmeans.fit(data)\n",
    "    score = np.abs(model.score(data))\n",
    "    return score"
   ]
  },
  {
   "cell_type": "code",
   "execution_count": 69,
   "metadata": {},
   "outputs": [],
   "source": [
    "import time as t"
   ]
  },
  {
   "cell_type": "code",
   "execution_count": 70,
   "metadata": {},
   "outputs": [
    {
     "name": "stdout",
     "output_type": "stream",
     "text": [
      "Clustering  for:[10] Clusteres, SSE is: [4566718.8754], time: [16.165] s\n",
      "Clustering  for:[12] Clusteres, SSE is: [4369805.7922], time: [16.585] s\n",
      "Clustering  for:[14] Clusteres, SSE is: [4261483.2558], time: [22.004] s\n",
      "Clustering  for:[16] Clusteres, SSE is: [4172539.199], time: [24.715] s\n",
      "Clustering  for:[18] Clusteres, SSE is: [4067410.7178], time: [33.973] s\n",
      "Clustering  for:[20] Clusteres, SSE is: [3991623.3072], time: [40.71] s\n",
      "Clustering  for:[22] Clusteres, SSE is: [3919748.014], time: [33.267] s\n",
      "Clustering  for:[24] Clusteres, SSE is: [3805030.5721], time: [43.876] s\n",
      "Clustering  for:[26] Clusteres, SSE is: [3748012.6727], time: [46.049] s\n",
      "Clustering  for:[28] Clusteres, SSE is: [3700655.6952], time: [52.972] s\n",
      "Clustering  for:[30] Clusteres, SSE is: [3654532.1617], time: [72.219] s\n",
      "CPU times: user 12min 23s, sys: 32 s, total: 12min 55s\n",
      "Wall time: 13min 1s\n"
     ]
    }
   ],
   "source": [
    "%%time\n",
    "# Over a number of different cluster counts...\n",
    "scores = []\n",
    "k_c = list(range(10, 31))\n",
    "for k in k_c:\n",
    "    start_time = t.time()\n",
    "    # run k-means clustering on the data and...\n",
    "    # compute the average within-cluster distances.\n",
    "    score = kmeans_score(samp_pca_azdias, centers=k)\n",
    "    scores.append(score)\n",
    "    # print information every second K\n",
    "    if k % 2 == 0:\n",
    "        print(f\"Clustering  for:[{k}] Clusteres, SSE is: [{round(score, 4)}], time: [{round(t.time()-start_time, 3)}] s\")"
   ]
  },
  {
   "cell_type": "code",
   "execution_count": 79,
   "metadata": {},
   "outputs": [],
   "source": [
    "# scores"
   ]
  },
  {
   "cell_type": "code",
   "execution_count": 71,
   "metadata": {},
   "outputs": [
    {
     "data": {
      "image/png": "[encoded data removed]",
      "text/plain": [
       "<matplotlib.figure.Figure at 0x7f8cc94cb0b8>"
      ]
     },
     "metadata": {
      "needs_background": "light"
     },
     "output_type": "display_data"
    }
   ],
   "source": [
    "# Investigate the change in within-cluster distance across number of clusters.\n",
    "# HINT: Use matplotlib's plot function to visualize this relationship.\n",
    "plt.figure(figsize=(12, 6))\n",
    "plt.plot(k_c, scores, linestyle='-', marker='o')\n",
    "plt.xlabel('K(Number of Clusters)')\n",
    "plt.ylabel('Sum of Squared Errors(SSE)')\n",
    "plt.title('Relationship between SSE and K');"
   ]
  },
  {
   "cell_type": "code",
   "execution_count": 72,
   "metadata": {},
   "outputs": [
    {
     "name": "stdout",
     "output_type": "stream",
     "text": [
      "CPU times: user 2min 25s, sys: 59.3 s, total: 3min 24s\n",
      "Wall time: 3min 25s\n"
     ]
    }
   ],
   "source": [
    "%%time\n",
    "# Re-fit the k-means model with the selected number of clusters and obtain\n",
    "# cluster predictions for the general population demographics data.\n",
    "kmeans = KMeans(n_clusters=19)\n",
    "g_model = kmeans.fit(pca_azdias)\n",
    "general_pred = g_model.predict(pca_azdias)"
   ]
  },
  {
   "cell_type": "markdown",
   "metadata": {},
   "source": [
    "### Discussion 3.1: Apply Clustering to General Population\n",
    "\n",
    "(Double-click this cell and replace this text with your own text, reporting your findings and decisions regarding clustering. Into how many clusters have you decided to segment the population?)"
   ]
  },
  {
   "cell_type": "markdown",
   "metadata": {},
   "source": [
    "### Step 3.2: Apply All Steps to the Customer Data\n",
    "\n",
    "Now that you have clusters and cluster centers for the general population, it's time to see how the customer data maps on to those clusters. Take care to not confuse this for re-fitting all of the models to the customer data. Instead, you're going to use the fits from the general population to clean, transform, and cluster the customer data. In the last step of the project, you will interpret how the general population fits apply to the customer data.\n",
    "\n",
    "- Don't forget when loading in the customers data, that it is semicolon (`;`) delimited.\n",
    "- Apply the same feature wrangling, selection, and engineering steps to the customer demographics using the `clean_data()` function you created earlier. (You can assume that the customer demographics data has similar meaning behind missing data patterns as the general demographics data.)\n",
    "- Use the sklearn objects from the general demographics data, and apply their transformations to the customers data. That is, you should not be using a `.fit()` or `.fit_transform()` method to re-fit the old objects, nor should you be creating new sklearn objects! Carry the data through the feature scaling, PCA, and clustering steps, obtaining cluster assignments for all of the data in the customer demographics data."
   ]
  },
  {
   "cell_type": "code",
   "execution_count": 73,
   "metadata": {},
   "outputs": [
    {
     "name": "stdout",
     "output_type": "stream",
     "text": [
      "(191652, 85)\n"
     ]
    },
    {
     "data": {
      "text/html": [
       "<div>\n",
       "<style scoped>\n",
       "    .dataframe tbody tr th:only-of-type {\n",
       "        vertical-align: middle;\n",
       "    }\n",
       "\n",
       "    .dataframe tbody tr th {\n",
       "        vertical-align: top;\n",
       "    }\n",
       "\n",
       "    .dataframe thead th {\n",
       "        text-align: right;\n",
       "    }\n",
       "</style>\n",
       "<table border=\"1\" class=\"dataframe\">\n",
       "  <thead>\n",
       "    <tr style=\"text-align: right;\">\n",
       "      <th></th>\n",
       "      <th>AGER_TYP</th>\n",
       "      <th>ALTERSKATEGORIE_GROB</th>\n",
       "      <th>ANREDE_KZ</th>\n",
       "      <th>CJT_GESAMTTYP</th>\n",
       "      <th>FINANZ_MINIMALIST</th>\n",
       "      <th>FINANZ_SPARER</th>\n",
       "      <th>FINANZ_VORSORGER</th>\n",
       "      <th>FINANZ_ANLEGER</th>\n",
       "      <th>FINANZ_UNAUFFAELLIGER</th>\n",
       "      <th>FINANZ_HAUSBAUER</th>\n",
       "      <th>...</th>\n",
       "      <th>PLZ8_ANTG1</th>\n",
       "      <th>PLZ8_ANTG2</th>\n",
       "      <th>PLZ8_ANTG3</th>\n",
       "      <th>PLZ8_ANTG4</th>\n",
       "      <th>PLZ8_BAUMAX</th>\n",
       "      <th>PLZ8_HHZ</th>\n",
       "      <th>PLZ8_GBZ</th>\n",
       "      <th>ARBEIT</th>\n",
       "      <th>ORTSGR_KLS9</th>\n",
       "      <th>RELAT_AB</th>\n",
       "    </tr>\n",
       "  </thead>\n",
       "  <tbody>\n",
       "    <tr>\n",
       "      <th>0</th>\n",
       "      <td>2</td>\n",
       "      <td>4</td>\n",
       "      <td>1</td>\n",
       "      <td>5.0</td>\n",
       "      <td>5</td>\n",
       "      <td>1</td>\n",
       "      <td>5</td>\n",
       "      <td>1</td>\n",
       "      <td>2</td>\n",
       "      <td>2</td>\n",
       "      <td>...</td>\n",
       "      <td>3.0</td>\n",
       "      <td>3.0</td>\n",
       "      <td>1.0</td>\n",
       "      <td>0.0</td>\n",
       "      <td>1.0</td>\n",
       "      <td>5.0</td>\n",
       "      <td>5.0</td>\n",
       "      <td>1.0</td>\n",
       "      <td>2.0</td>\n",
       "      <td>1.0</td>\n",
       "    </tr>\n",
       "    <tr>\n",
       "      <th>1</th>\n",
       "      <td>-1</td>\n",
       "      <td>4</td>\n",
       "      <td>1</td>\n",
       "      <td>NaN</td>\n",
       "      <td>5</td>\n",
       "      <td>1</td>\n",
       "      <td>5</td>\n",
       "      <td>1</td>\n",
       "      <td>3</td>\n",
       "      <td>2</td>\n",
       "      <td>...</td>\n",
       "      <td>NaN</td>\n",
       "      <td>NaN</td>\n",
       "      <td>NaN</td>\n",
       "      <td>NaN</td>\n",
       "      <td>NaN</td>\n",
       "      <td>NaN</td>\n",
       "      <td>NaN</td>\n",
       "      <td>NaN</td>\n",
       "      <td>NaN</td>\n",
       "      <td>NaN</td>\n",
       "    </tr>\n",
       "    <tr>\n",
       "      <th>2</th>\n",
       "      <td>-1</td>\n",
       "      <td>4</td>\n",
       "      <td>2</td>\n",
       "      <td>2.0</td>\n",
       "      <td>5</td>\n",
       "      <td>1</td>\n",
       "      <td>5</td>\n",
       "      <td>1</td>\n",
       "      <td>4</td>\n",
       "      <td>4</td>\n",
       "      <td>...</td>\n",
       "      <td>2.0</td>\n",
       "      <td>3.0</td>\n",
       "      <td>3.0</td>\n",
       "      <td>1.0</td>\n",
       "      <td>3.0</td>\n",
       "      <td>3.0</td>\n",
       "      <td>2.0</td>\n",
       "      <td>3.0</td>\n",
       "      <td>5.0</td>\n",
       "      <td>3.0</td>\n",
       "    </tr>\n",
       "    <tr>\n",
       "      <th>3</th>\n",
       "      <td>1</td>\n",
       "      <td>4</td>\n",
       "      <td>1</td>\n",
       "      <td>2.0</td>\n",
       "      <td>5</td>\n",
       "      <td>1</td>\n",
       "      <td>5</td>\n",
       "      <td>2</td>\n",
       "      <td>1</td>\n",
       "      <td>2</td>\n",
       "      <td>...</td>\n",
       "      <td>3.0</td>\n",
       "      <td>2.0</td>\n",
       "      <td>1.0</td>\n",
       "      <td>0.0</td>\n",
       "      <td>1.0</td>\n",
       "      <td>3.0</td>\n",
       "      <td>4.0</td>\n",
       "      <td>1.0</td>\n",
       "      <td>3.0</td>\n",
       "      <td>1.0</td>\n",
       "    </tr>\n",
       "    <tr>\n",
       "      <th>4</th>\n",
       "      <td>-1</td>\n",
       "      <td>3</td>\n",
       "      <td>1</td>\n",
       "      <td>6.0</td>\n",
       "      <td>3</td>\n",
       "      <td>1</td>\n",
       "      <td>4</td>\n",
       "      <td>4</td>\n",
       "      <td>5</td>\n",
       "      <td>2</td>\n",
       "      <td>...</td>\n",
       "      <td>2.0</td>\n",
       "      <td>4.0</td>\n",
       "      <td>2.0</td>\n",
       "      <td>1.0</td>\n",
       "      <td>2.0</td>\n",
       "      <td>3.0</td>\n",
       "      <td>3.0</td>\n",
       "      <td>3.0</td>\n",
       "      <td>5.0</td>\n",
       "      <td>1.0</td>\n",
       "    </tr>\n",
       "  </tbody>\n",
       "</table>\n",
       "<p>5 rows × 85 columns</p>\n",
       "</div>"
      ],
      "text/plain": [
       "   AGER_TYP  ALTERSKATEGORIE_GROB  ANREDE_KZ  CJT_GESAMTTYP  \\\n",
       "0         2                     4          1            5.0   \n",
       "1        -1                     4          1            NaN   \n",
       "2        -1                     4          2            2.0   \n",
       "3         1                     4          1            2.0   \n",
       "4        -1                     3          1            6.0   \n",
       "\n",
       "   FINANZ_MINIMALIST  FINANZ_SPARER  FINANZ_VORSORGER  FINANZ_ANLEGER  \\\n",
       "0                  5              1                 5               1   \n",
       "1                  5              1                 5               1   \n",
       "2                  5              1                 5               1   \n",
       "3                  5              1                 5               2   \n",
       "4                  3              1                 4               4   \n",
       "\n",
       "   FINANZ_UNAUFFAELLIGER  FINANZ_HAUSBAUER    ...     PLZ8_ANTG1  PLZ8_ANTG2  \\\n",
       "0                      2                 2    ...            3.0         3.0   \n",
       "1                      3                 2    ...            NaN         NaN   \n",
       "2                      4                 4    ...            2.0         3.0   \n",
       "3                      1                 2    ...            3.0         2.0   \n",
       "4                      5                 2    ...            2.0         4.0   \n",
       "\n",
       "   PLZ8_ANTG3  PLZ8_ANTG4  PLZ8_BAUMAX  PLZ8_HHZ  PLZ8_GBZ  ARBEIT  \\\n",
       "0         1.0         0.0          1.0       5.0       5.0     1.0   \n",
       "1         NaN         NaN          NaN       NaN       NaN     NaN   \n",
       "2         3.0         1.0          3.0       3.0       2.0     3.0   \n",
       "3         1.0         0.0          1.0       3.0       4.0     1.0   \n",
       "4         2.0         1.0          2.0       3.0       3.0     3.0   \n",
       "\n",
       "   ORTSGR_KLS9  RELAT_AB  \n",
       "0          2.0       1.0  \n",
       "1          NaN       NaN  \n",
       "2          5.0       3.0  \n",
       "3          3.0       1.0  \n",
       "4          5.0       1.0  \n",
       "\n",
       "[5 rows x 85 columns]"
      ]
     },
     "execution_count": 73,
     "metadata": {},
     "output_type": "execute_result"
    }
   ],
   "source": [
    "# Load in the customer demographics data.\n",
    "customers = pd.read_csv('Udacity_CUSTOMERS_Subset.csv', sep=';', header=0)\n",
    "print(customers.shape)\n",
    "customers.head()"
   ]
  },
  {
   "cell_type": "code",
   "execution_count": 74,
   "metadata": {},
   "outputs": [
    {
     "data": {
      "text/plain": [
       "AGER_TYP                  0.000000\n",
       "ALTERSKATEGORIE_GROB      0.000000\n",
       "ANREDE_KZ                 0.000000\n",
       "CJT_GESAMTTYP             1.676476\n",
       "FINANZ_MINIMALIST         0.000000\n",
       "FINANZ_SPARER             0.000000\n",
       "FINANZ_VORSORGER          0.000000\n",
       "FINANZ_ANLEGER            0.000000\n",
       "FINANZ_UNAUFFAELLIGER     0.000000\n",
       "FINANZ_HAUSBAUER          0.000000\n",
       "FINANZTYP                 0.000000\n",
       "GEBURTSJAHR               0.000000\n",
       "GFK_URLAUBERTYP           1.676476\n",
       "GREEN_AVANTGARDE          0.000000\n",
       "HEALTH_TYP                0.000000\n",
       "LP_LEBENSPHASE_FEIN       1.676476\n",
       "LP_LEBENSPHASE_GROB       1.676476\n",
       "LP_FAMILIE_FEIN           1.676476\n",
       "LP_FAMILIE_GROB           1.676476\n",
       "LP_STATUS_FEIN            1.676476\n",
       "LP_STATUS_GROB            1.676476\n",
       "NATIONALITAET_KZ          0.000000\n",
       "PRAEGENDE_JUGENDJAHRE     0.000000\n",
       "RETOURTYP_BK_S            1.676476\n",
       "SEMIO_SOZ                 0.000000\n",
       "SEMIO_FAM                 0.000000\n",
       "SEMIO_REL                 0.000000\n",
       "SEMIO_MAT                 0.000000\n",
       "SEMIO_VERT                0.000000\n",
       "SEMIO_LUST                0.000000\n",
       "                           ...    \n",
       "OST_WEST_KZ              26.050863\n",
       "WOHNLAGE                 26.050863\n",
       "CAMEO_DEUG_2015          26.312274\n",
       "CAMEO_DEU_2015           26.312274\n",
       "CAMEO_INTL_2015          26.312274\n",
       "KBA05_ANTG1              29.209192\n",
       "KBA05_ANTG2              29.209192\n",
       "KBA05_ANTG3              29.209192\n",
       "KBA05_ANTG4              29.209192\n",
       "KBA05_BAUMAX             29.209192\n",
       "KBA05_GBZ                29.209192\n",
       "BALLRAUM                 26.067560\n",
       "EWDICHTE                 26.067560\n",
       "INNENSTADT               26.067560\n",
       "GEBAEUDETYP_RASTER       26.050863\n",
       "KKK                      28.311732\n",
       "MOBI_REGIO               29.209192\n",
       "ONLINE_AFFINITAET         1.676476\n",
       "REGIOTYP                 28.311732\n",
       "KBA13_ANZAHL_PKW         26.757352\n",
       "PLZ8_ANTG1               27.531150\n",
       "PLZ8_ANTG2               27.531150\n",
       "PLZ8_ANTG3               27.531150\n",
       "PLZ8_ANTG4               27.531150\n",
       "PLZ8_BAUMAX              27.531150\n",
       "PLZ8_HHZ                 27.531150\n",
       "PLZ8_GBZ                 27.531150\n",
       "ARBEIT                   26.337320\n",
       "ORTSGR_KLS9              26.337320\n",
       "RELAT_AB                 26.337320\n",
       "Length: 85, dtype: float64"
      ]
     },
     "execution_count": 74,
     "metadata": {},
     "output_type": "execute_result"
    }
   ],
   "source": [
    "percent_missing_per_column =(customers.isnull().sum()/len(customers))*100\n",
    "percent_missing_per_column"
   ]
  },
  {
   "cell_type": "code",
   "execution_count": 75,
   "metadata": {},
   "outputs": [
    {
     "name": "stdout",
     "output_type": "stream",
     "text": [
      "(115643, 66)\n",
      "CPU times: user 1.87 s, sys: 494 ms, total: 2.36 s\n",
      "Wall time: 2.37 s\n"
     ]
    }
   ],
   "source": [
    "%%time\n",
    "customers_clean = clean_data(customers)\n",
    "print(customers_clean.shape)"
   ]
  },
  {
   "cell_type": "code",
   "execution_count": 76,
   "metadata": {},
   "outputs": [
    {
     "name": "stdout",
     "output_type": "stream",
     "text": [
      "NaN values in customers data :0\n"
     ]
    }
   ],
   "source": [
    "print(f'NaN values in customers data :{customers_clean.isna().sum().sum()}')"
   ]
  },
  {
   "cell_type": "code",
   "execution_count": 77,
   "metadata": {},
   "outputs": [
    {
     "name": "stdout",
     "output_type": "stream",
     "text": [
      "(115643, 66)\n",
      "CPU times: user 549 ms, sys: 203 ms, total: 752 ms\n",
      "Wall time: 755 ms\n"
     ]
    }
   ],
   "source": [
    "%%time\n",
    "# Apply preprocessing, feature transformation, and clustering from the general\n",
    "# demographics onto the customer data, obtaining cluster predictions for the\n",
    "# customer demographics data.\n",
    "\n",
    "# The scaler object was created in section 2.1: apply Feature Scalling (scaler = p.StandardScaler())\n",
    "scal_customers_clean = scaler.transform(customers_clean)\n",
    "scal_customers = pd.DataFrame(scal_customers_clean) #create a dataframe\n",
    "# setting the columns for the new dataframe to be as the old one.\n",
    "scal_customers.columns = customers_clean.columns\n",
    "print(scal_customers.shape)\n",
    "# The pca_35 object was created in section 2.2: Perform Dimensionality Reduction (pca_35 = PCA(n_components=35))\n",
    "pca_customers = pca_35.transform(scal_customers)\n",
    "# The g_model was created in section 3.1: Apply Clustering to General Population g_model = kmeans.fit(pca_azdias)\n",
    "predict_customers = g_model.predict(pca_customers)"
   ]
  },
  {
   "cell_type": "markdown",
   "metadata": {},
   "source": [
    "### Step 3.3: Compare Customer Data to Demographics Data\n",
    "\n",
    "At this point, you have clustered data based on demographics of the general population of Germany, and seen how the customer data for a mail-order sales company maps onto those demographic clusters. In this final substep, you will compare the two cluster distributions to see where the strongest customer base for the company is.\n",
    "\n",
    "Consider the proportion of persons in each cluster for the general population, and the proportions for the customers. If we think the company's customer base to be universal, then the cluster assignment proportions should be fairly similar between the two. If there are only particular segments of the population that are interested in the company's products, then we should see a mismatch from one to the other. If there is a higher proportion of persons in a cluster for the customer data compared to the general population (e.g. 5% of persons are assigned to a cluster for the general population, but 15% of the customer data is closest to that cluster's centroid) then that suggests the people in that cluster to be a target audience for the company. On the other hand, the proportion of the data in a cluster being larger in the general population than the customer data (e.g. only 2% of customers closest to a population centroid that captures 6% of the data) suggests that group of persons to be outside of the target demographics.\n",
    "\n",
    "Take a look at the following points in this step:\n",
    "\n",
    "- Compute the proportion of data points in each cluster for the general population and the customer data. Visualizations will be useful here: both for the individual dataset proportions, but also to visualize the ratios in cluster representation between groups. Seaborn's [`countplot()`](https://seaborn.pydata.org/generated/seaborn.countplot.html) or [`barplot()`](https://seaborn.pydata.org/generated/seaborn.barplot.html) function could be handy.\n",
    "  - Recall the analysis you performed in step 1.1.3 of the project, where you separated out certain data points from the dataset if they had more than a specified threshold of missing values. If you found that this group was qualitatively different from the main bulk of the data, you should treat this as an additional data cluster in this analysis. Make sure that you account for the number of data points in this subset, for both the general population and customer datasets, when making your computations!\n",
    "- Which cluster or clusters are overrepresented in the customer dataset compared to the general population? Select at least one such cluster and infer what kind of people might be represented by that cluster. Use the principal component interpretations from step 2.3 or look at additional components to help you make this inference. Alternatively, you can use the `.inverse_transform()` method of the PCA and StandardScaler objects to transform centroids back to the original data space and interpret the retrieved values directly.\n",
    "- Perform a similar investigation for the underrepresented clusters. Which cluster or clusters are underrepresented in the customer dataset compared to the general population, and what kinds of people are typified by these clusters?"
   ]
  },
  {
   "cell_type": "code",
   "execution_count": 78,
   "metadata": {},
   "outputs": [
    {
     "data": {
      "text/plain": [
       "((623209,), (115643,))"
      ]
     },
     "execution_count": 78,
     "metadata": {},
     "output_type": "execute_result"
    }
   ],
   "source": [
    "general_pred.shape, predict_customers.shape"
   ]
  },
  {
   "cell_type": "markdown",
   "metadata": {},
   "source": [
    "#### Code Explanation for next cell:\n",
    "\n",
    "- (row 1 and 2) each row or person in general_pred(size of 623209) and predict_customers(size of 115643) is assigned to a specific cluster from our 19 clusters, so what am I going to do in the next cell is to turn both into pandas Series than call value_counts() on them to count every entry for each cluster then calling sort_index() to sort the indecies from 0 to 18.\n",
    "- (row 3) then I will use pandas concat to create DataFrame from both pandas Series created in last step.\n",
    "- (row 4) using pandas rename will change the columns names to more appropriate onse.\n",
    "- (row 5 and 6) creating two new columns (gen_prop, cus_prop) to hold the propabilities for every cluster.\n",
    "- (row 7) will print confirmation that the sum of each new column will be colse or equal to 100 which means that we didn't loose and values from the clusters."
   ]
  },
  {
   "cell_type": "code",
   "execution_count": 134,
   "metadata": {},
   "outputs": [
    {
     "name": "stdout",
     "output_type": "stream",
     "text": [
      "100.0 99.98\n"
     ]
    },
    {
     "data": {
      "text/html": [
       "<div>\n",
       "<style scoped>\n",
       "    .dataframe tbody tr th:only-of-type {\n",
       "        vertical-align: middle;\n",
       "    }\n",
       "\n",
       "    .dataframe tbody tr th {\n",
       "        vertical-align: top;\n",
       "    }\n",
       "\n",
       "    .dataframe thead th {\n",
       "        text-align: right;\n",
       "    }\n",
       "</style>\n",
       "<table border=\"1\" class=\"dataframe\">\n",
       "  <thead>\n",
       "    <tr style=\"text-align: right;\">\n",
       "      <th></th>\n",
       "      <th>Cluster</th>\n",
       "      <th>General</th>\n",
       "      <th>Customers</th>\n",
       "      <th>General_Proportion</th>\n",
       "      <th>Customer_Proportion</th>\n",
       "    </tr>\n",
       "  </thead>\n",
       "  <tbody>\n",
       "    <tr>\n",
       "      <th>0</th>\n",
       "      <td>0</td>\n",
       "      <td>33445</td>\n",
       "      <td>16272</td>\n",
       "      <td>5.37</td>\n",
       "      <td>14.07</td>\n",
       "    </tr>\n",
       "    <tr>\n",
       "      <th>1</th>\n",
       "      <td>1</td>\n",
       "      <td>41386</td>\n",
       "      <td>6474</td>\n",
       "      <td>6.64</td>\n",
       "      <td>5.60</td>\n",
       "    </tr>\n",
       "    <tr>\n",
       "      <th>2</th>\n",
       "      <td>2</td>\n",
       "      <td>39553</td>\n",
       "      <td>572</td>\n",
       "      <td>6.35</td>\n",
       "      <td>0.49</td>\n",
       "    </tr>\n",
       "    <tr>\n",
       "      <th>3</th>\n",
       "      <td>3</td>\n",
       "      <td>23432</td>\n",
       "      <td>3231</td>\n",
       "      <td>3.76</td>\n",
       "      <td>2.79</td>\n",
       "    </tr>\n",
       "    <tr>\n",
       "      <th>4</th>\n",
       "      <td>4</td>\n",
       "      <td>43590</td>\n",
       "      <td>1464</td>\n",
       "      <td>6.99</td>\n",
       "      <td>1.27</td>\n",
       "    </tr>\n",
       "    <tr>\n",
       "      <th>5</th>\n",
       "      <td>5</td>\n",
       "      <td>48593</td>\n",
       "      <td>833</td>\n",
       "      <td>7.80</td>\n",
       "      <td>0.72</td>\n",
       "    </tr>\n",
       "    <tr>\n",
       "      <th>6</th>\n",
       "      <td>6</td>\n",
       "      <td>30091</td>\n",
       "      <td>3734</td>\n",
       "      <td>4.83</td>\n",
       "      <td>3.23</td>\n",
       "    </tr>\n",
       "    <tr>\n",
       "      <th>7</th>\n",
       "      <td>7</td>\n",
       "      <td>41876</td>\n",
       "      <td>6897</td>\n",
       "      <td>6.72</td>\n",
       "      <td>5.96</td>\n",
       "    </tr>\n",
       "    <tr>\n",
       "      <th>8</th>\n",
       "      <td>8</td>\n",
       "      <td>45497</td>\n",
       "      <td>37394</td>\n",
       "      <td>7.30</td>\n",
       "      <td>32.34</td>\n",
       "    </tr>\n",
       "    <tr>\n",
       "      <th>9</th>\n",
       "      <td>9</td>\n",
       "      <td>2415</td>\n",
       "      <td>2346</td>\n",
       "      <td>0.39</td>\n",
       "      <td>2.03</td>\n",
       "    </tr>\n",
       "    <tr>\n",
       "      <th>10</th>\n",
       "      <td>10</td>\n",
       "      <td>40167</td>\n",
       "      <td>1218</td>\n",
       "      <td>6.45</td>\n",
       "      <td>1.05</td>\n",
       "    </tr>\n",
       "    <tr>\n",
       "      <th>11</th>\n",
       "      <td>11</td>\n",
       "      <td>28394</td>\n",
       "      <td>2118</td>\n",
       "      <td>4.56</td>\n",
       "      <td>1.83</td>\n",
       "    </tr>\n",
       "    <tr>\n",
       "      <th>12</th>\n",
       "      <td>12</td>\n",
       "      <td>30623</td>\n",
       "      <td>1532</td>\n",
       "      <td>4.91</td>\n",
       "      <td>1.32</td>\n",
       "    </tr>\n",
       "    <tr>\n",
       "      <th>13</th>\n",
       "      <td>13</td>\n",
       "      <td>43027</td>\n",
       "      <td>13361</td>\n",
       "      <td>6.90</td>\n",
       "      <td>11.55</td>\n",
       "    </tr>\n",
       "    <tr>\n",
       "      <th>14</th>\n",
       "      <td>14</td>\n",
       "      <td>5266</td>\n",
       "      <td>1105</td>\n",
       "      <td>0.84</td>\n",
       "      <td>0.96</td>\n",
       "    </tr>\n",
       "    <tr>\n",
       "      <th>15</th>\n",
       "      <td>15</td>\n",
       "      <td>32673</td>\n",
       "      <td>555</td>\n",
       "      <td>5.24</td>\n",
       "      <td>0.48</td>\n",
       "    </tr>\n",
       "    <tr>\n",
       "      <th>16</th>\n",
       "      <td>16</td>\n",
       "      <td>607</td>\n",
       "      <td>232</td>\n",
       "      <td>0.10</td>\n",
       "      <td>0.20</td>\n",
       "    </tr>\n",
       "    <tr>\n",
       "      <th>17</th>\n",
       "      <td>17</td>\n",
       "      <td>57349</td>\n",
       "      <td>9442</td>\n",
       "      <td>9.20</td>\n",
       "      <td>8.16</td>\n",
       "    </tr>\n",
       "    <tr>\n",
       "      <th>18</th>\n",
       "      <td>18</td>\n",
       "      <td>35225</td>\n",
       "      <td>6863</td>\n",
       "      <td>5.65</td>\n",
       "      <td>5.93</td>\n",
       "    </tr>\n",
       "  </tbody>\n",
       "</table>\n",
       "</div>"
      ],
      "text/plain": [
       "    Cluster  General  Customers  General_Proportion  Customer_Proportion\n",
       "0         0    33445      16272                5.37                14.07\n",
       "1         1    41386       6474                6.64                 5.60\n",
       "2         2    39553        572                6.35                 0.49\n",
       "3         3    23432       3231                3.76                 2.79\n",
       "4         4    43590       1464                6.99                 1.27\n",
       "5         5    48593        833                7.80                 0.72\n",
       "6         6    30091       3734                4.83                 3.23\n",
       "7         7    41876       6897                6.72                 5.96\n",
       "8         8    45497      37394                7.30                32.34\n",
       "9         9     2415       2346                0.39                 2.03\n",
       "10       10    40167       1218                6.45                 1.05\n",
       "11       11    28394       2118                4.56                 1.83\n",
       "12       12    30623       1532                4.91                 1.32\n",
       "13       13    43027      13361                6.90                11.55\n",
       "14       14     5266       1105                0.84                 0.96\n",
       "15       15    32673        555                5.24                 0.48\n",
       "16       16      607        232                0.10                 0.20\n",
       "17       17    57349       9442                9.20                 8.16\n",
       "18       18    35225       6863                5.65                 5.93"
      ]
     },
     "execution_count": 134,
     "metadata": {},
     "output_type": "execute_result"
    }
   ],
   "source": [
    "general_clusters = pd.Series(general_pred).value_counts().sort_index()\n",
    "customers_clusters = pd.Series(predict_customers).value_counts().sort_index()\n",
    "gen_cus_ds = pd.concat([general_clusters, customers_clusters], axis=1).reset_index()\n",
    "gen_cus_ds.rename(columns = {'index': 'Cluster', 0: 'General', 1: 'Customers'}, inplace = True)\n",
    "gen_cus_ds['General_Proportion'] = ((gen_cus_ds['General'] / gen_cus_ds['General'].sum()) * 100).round(2)\n",
    "gen_cus_ds['Customer_Proportion'] = ((gen_cus_ds['Customers'] / gen_cus_ds['Customers'].sum()) * 100).round(2)\n",
    "print(gen_cus_ds['General_Proportion'].sum(), gen_cus_ds['Customer_Proportion'].sum())\n",
    "gen_cus_ds"
   ]
  },
  {
   "cell_type": "code",
   "execution_count": 135,
   "metadata": {},
   "outputs": [
    {
     "data": {
      "image/png": "[encoded data removed]",
      "text/plain": [
       "<matplotlib.figure.Figure at 0x7f8c8429e0f0>"
      ]
     },
     "metadata": {
      "needs_background": "light"
     },
     "output_type": "display_data"
    }
   ],
   "source": [
    "# Compare the proportion of data in each cluster for the customer data to the\n",
    "# proportion of data in each cluster for the general population.\n",
    "gen_cus_ds.plot(x='Cluster', y=['General_Proportion', 'Customer_Proportion'], kind='bar', figsize=(12, 5))\n",
    "plt.ylabel('Proportion of people')\n",
    "plt.title('General Population VS Customers in proportion of people in every Cluster');\n",
    "plt.show()"
   ]
  },
  {
   "cell_type": "markdown",
   "metadata": {},
   "source": [
    "- We can see here that the proportion of customers in cluster 8 (32% vs 7%) is much larger(overrepresented) than the general population proportion, which means that the people in cluster 8 are the target audiance for the company.\n",
    "- the underrepresented clusters are cluster 2 (0.5% vs 6%), cluster 4 (1.3% vs 7%), cluster 5 (7.8% vs 0.7%), cluster 10 (6.5% vs 1%) all of these clusters fit to the 6% or more general vs 2% or less customers which means that the group of persons in these clusters is outside of the target demographics. ( I chose cluster 5 to countinue with this analysis)"
   ]
  },
  {
   "cell_type": "code",
   "execution_count": 140,
   "metadata": {},
   "outputs": [
    {
     "data": {
      "text/plain": [
       "(623209,)"
      ]
     },
     "execution_count": 140,
     "metadata": {},
     "output_type": "execute_result"
    }
   ],
   "source": [
    "general_clusters.shape"
   ]
  },
  {
   "cell_type": "code",
   "execution_count": 169,
   "metadata": {},
   "outputs": [],
   "source": [
    "# What kinds of people are part of a cluster that is overrepresented in the\n",
    "# customer data compared to the general population?\n",
    "# starting at 0 the overrepresented clusters in the customers data are cluster 8\n",
    "cluster_8 = scaler.inverse_transform(pca_35.inverse_transform(g_model.cluster_centers_[8]))\n",
    "overrepr_cust_8 = pd.Series(data=cluster_8, index=customers_clean.columns)\n"
   ]
  },
  {
   "cell_type": "code",
   "execution_count": 170,
   "metadata": {},
   "outputs": [],
   "source": [
    "# What kinds of people are part of a cluster that is underrepresented in the\n",
    "# customer data compared to the general population?\n",
    "# starting at 0 the underrepresented clusters in the customers data are cluster 5\n",
    "\n",
    "cluster_5 = scaler.inverse_transform(pca_35.inverse_transform(g_model.cluster_centers_[5]))\n",
    "underrepr_cust_5 = pd.Series(data = cluster_5, index=customers_clean.columns)"
   ]
  },
  {
   "cell_type": "code",
   "execution_count": 171,
   "metadata": {},
   "outputs": [],
   "source": [
    "comparison_df = pd.DataFrame()\n",
    "comparison_df['Features'] = no_nan_rows.columns\n",
    "comparison_df['Overrepr_8'] = overrepr_cust_8.values.round(decimals=2)\n",
    "comparison_df['Underrepr_5'] = underrepr_cust_5.values.round(decimals=2)"
   ]
  },
  {
   "cell_type": "code",
   "execution_count": 172,
   "metadata": {},
   "outputs": [
    {
     "data": {
      "text/html": [
       "<div>\n",
       "<style scoped>\n",
       "    .dataframe tbody tr th:only-of-type {\n",
       "        vertical-align: middle;\n",
       "    }\n",
       "\n",
       "    .dataframe tbody tr th {\n",
       "        vertical-align: top;\n",
       "    }\n",
       "\n",
       "    .dataframe thead th {\n",
       "        text-align: right;\n",
       "    }\n",
       "</style>\n",
       "<table border=\"1\" class=\"dataframe\">\n",
       "  <thead>\n",
       "    <tr style=\"text-align: right;\">\n",
       "      <th></th>\n",
       "      <th>Features</th>\n",
       "      <th>Overrepr_8</th>\n",
       "      <th>Underrepr_5</th>\n",
       "    </tr>\n",
       "  </thead>\n",
       "  <tbody>\n",
       "    <tr>\n",
       "      <th>0</th>\n",
       "      <td>ALTERSKATEGORIE_GROB</td>\n",
       "      <td>3.30</td>\n",
       "      <td>1.76</td>\n",
       "    </tr>\n",
       "    <tr>\n",
       "      <th>1</th>\n",
       "      <td>ANREDE_KZ</td>\n",
       "      <td>1.05</td>\n",
       "      <td>0.95</td>\n",
       "    </tr>\n",
       "    <tr>\n",
       "      <th>2</th>\n",
       "      <td>FINANZ_MINIMALIST</td>\n",
       "      <td>4.82</td>\n",
       "      <td>1.88</td>\n",
       "    </tr>\n",
       "    <tr>\n",
       "      <th>3</th>\n",
       "      <td>FINANZ_SPARER</td>\n",
       "      <td>1.61</td>\n",
       "      <td>4.37</td>\n",
       "    </tr>\n",
       "    <tr>\n",
       "      <th>4</th>\n",
       "      <td>FINANZ_VORSORGER</td>\n",
       "      <td>4.22</td>\n",
       "      <td>2.06</td>\n",
       "    </tr>\n",
       "    <tr>\n",
       "      <th>5</th>\n",
       "      <td>FINANZ_ANLEGER</td>\n",
       "      <td>1.42</td>\n",
       "      <td>3.53</td>\n",
       "    </tr>\n",
       "    <tr>\n",
       "      <th>6</th>\n",
       "      <td>FINANZ_UNAUFFAELLIGER</td>\n",
       "      <td>2.14</td>\n",
       "      <td>3.75</td>\n",
       "    </tr>\n",
       "    <tr>\n",
       "      <th>7</th>\n",
       "      <td>FINANZ_HAUSBAUER</td>\n",
       "      <td>1.96</td>\n",
       "      <td>3.63</td>\n",
       "    </tr>\n",
       "    <tr>\n",
       "      <th>8</th>\n",
       "      <td>GREEN_AVANTGARDE</td>\n",
       "      <td>0.98</td>\n",
       "      <td>0.13</td>\n",
       "    </tr>\n",
       "    <tr>\n",
       "      <th>9</th>\n",
       "      <td>HEALTH_TYP</td>\n",
       "      <td>2.06</td>\n",
       "      <td>2.35</td>\n",
       "    </tr>\n",
       "    <tr>\n",
       "      <th>10</th>\n",
       "      <td>RETOURTYP_BK_S</td>\n",
       "      <td>4.04</td>\n",
       "      <td>2.72</td>\n",
       "    </tr>\n",
       "    <tr>\n",
       "      <th>11</th>\n",
       "      <td>SEMIO_SOZ</td>\n",
       "      <td>4.89</td>\n",
       "      <td>6.88</td>\n",
       "    </tr>\n",
       "    <tr>\n",
       "      <th>12</th>\n",
       "      <td>SEMIO_FAM</td>\n",
       "      <td>4.83</td>\n",
       "      <td>6.79</td>\n",
       "    </tr>\n",
       "    <tr>\n",
       "      <th>13</th>\n",
       "      <td>SEMIO_REL</td>\n",
       "      <td>3.76</td>\n",
       "      <td>6.31</td>\n",
       "    </tr>\n",
       "    <tr>\n",
       "      <th>14</th>\n",
       "      <td>SEMIO_MAT</td>\n",
       "      <td>3.95</td>\n",
       "      <td>5.16</td>\n",
       "    </tr>\n",
       "    <tr>\n",
       "      <th>15</th>\n",
       "      <td>SEMIO_VERT</td>\n",
       "      <td>6.23</td>\n",
       "      <td>6.09</td>\n",
       "    </tr>\n",
       "    <tr>\n",
       "      <th>16</th>\n",
       "      <td>SEMIO_LUST</td>\n",
       "      <td>5.29</td>\n",
       "      <td>2.74</td>\n",
       "    </tr>\n",
       "    <tr>\n",
       "      <th>17</th>\n",
       "      <td>SEMIO_ERL</td>\n",
       "      <td>4.09</td>\n",
       "      <td>2.03</td>\n",
       "    </tr>\n",
       "    <tr>\n",
       "      <th>18</th>\n",
       "      <td>SEMIO_KULT</td>\n",
       "      <td>4.95</td>\n",
       "      <td>6.98</td>\n",
       "    </tr>\n",
       "    <tr>\n",
       "      <th>19</th>\n",
       "      <td>SEMIO_RAT</td>\n",
       "      <td>2.70</td>\n",
       "      <td>4.15</td>\n",
       "    </tr>\n",
       "    <tr>\n",
       "      <th>20</th>\n",
       "      <td>SEMIO_KRIT</td>\n",
       "      <td>3.18</td>\n",
       "      <td>2.72</td>\n",
       "    </tr>\n",
       "    <tr>\n",
       "      <th>21</th>\n",
       "      <td>SEMIO_DOM</td>\n",
       "      <td>3.42</td>\n",
       "      <td>2.78</td>\n",
       "    </tr>\n",
       "    <tr>\n",
       "      <th>22</th>\n",
       "      <td>SEMIO_KAEM</td>\n",
       "      <td>2.57</td>\n",
       "      <td>2.36</td>\n",
       "    </tr>\n",
       "    <tr>\n",
       "      <th>23</th>\n",
       "      <td>SEMIO_PFLICHT</td>\n",
       "      <td>3.17</td>\n",
       "      <td>5.79</td>\n",
       "    </tr>\n",
       "    <tr>\n",
       "      <th>24</th>\n",
       "      <td>SEMIO_TRADV</td>\n",
       "      <td>3.16</td>\n",
       "      <td>4.92</td>\n",
       "    </tr>\n",
       "  </tbody>\n",
       "</table>\n",
       "</div>"
      ],
      "text/plain": [
       "                 Features  Overrepr_8  Underrepr_5\n",
       "0    ALTERSKATEGORIE_GROB        3.30         1.76\n",
       "1               ANREDE_KZ        1.05         0.95\n",
       "2       FINANZ_MINIMALIST        4.82         1.88\n",
       "3           FINANZ_SPARER        1.61         4.37\n",
       "4        FINANZ_VORSORGER        4.22         2.06\n",
       "5          FINANZ_ANLEGER        1.42         3.53\n",
       "6   FINANZ_UNAUFFAELLIGER        2.14         3.75\n",
       "7        FINANZ_HAUSBAUER        1.96         3.63\n",
       "8        GREEN_AVANTGARDE        0.98         0.13\n",
       "9              HEALTH_TYP        2.06         2.35\n",
       "10         RETOURTYP_BK_S        4.04         2.72\n",
       "11              SEMIO_SOZ        4.89         6.88\n",
       "12              SEMIO_FAM        4.83         6.79\n",
       "13              SEMIO_REL        3.76         6.31\n",
       "14              SEMIO_MAT        3.95         5.16\n",
       "15             SEMIO_VERT        6.23         6.09\n",
       "16             SEMIO_LUST        5.29         2.74\n",
       "17              SEMIO_ERL        4.09         2.03\n",
       "18             SEMIO_KULT        4.95         6.98\n",
       "19              SEMIO_RAT        2.70         4.15\n",
       "20             SEMIO_KRIT        3.18         2.72\n",
       "21              SEMIO_DOM        3.42         2.78\n",
       "22             SEMIO_KAEM        2.57         2.36\n",
       "23          SEMIO_PFLICHT        3.17         5.79\n",
       "24            SEMIO_TRADV        3.16         4.92"
      ]
     },
     "execution_count": 172,
     "metadata": {},
     "output_type": "execute_result"
    }
   ],
   "source": [
    "comparison_df[:25]"
   ]
  },
  {
   "cell_type": "code",
   "execution_count": 173,
   "metadata": {},
   "outputs": [
    {
     "data": {
      "text/html": [
       "<div>\n",
       "<style scoped>\n",
       "    .dataframe tbody tr th:only-of-type {\n",
       "        vertical-align: middle;\n",
       "    }\n",
       "\n",
       "    .dataframe tbody tr th {\n",
       "        vertical-align: top;\n",
       "    }\n",
       "\n",
       "    .dataframe thead th {\n",
       "        text-align: right;\n",
       "    }\n",
       "</style>\n",
       "<table border=\"1\" class=\"dataframe\">\n",
       "  <thead>\n",
       "    <tr style=\"text-align: right;\">\n",
       "      <th></th>\n",
       "      <th>Features</th>\n",
       "      <th>Overrepr_8</th>\n",
       "      <th>Underrepr_5</th>\n",
       "    </tr>\n",
       "  </thead>\n",
       "  <tbody>\n",
       "    <tr>\n",
       "      <th>25</th>\n",
       "      <td>SOHO_KZ</td>\n",
       "      <td>0.00</td>\n",
       "      <td>-0.00</td>\n",
       "    </tr>\n",
       "    <tr>\n",
       "      <th>26</th>\n",
       "      <td>VERS_TYP</td>\n",
       "      <td>1.54</td>\n",
       "      <td>1.50</td>\n",
       "    </tr>\n",
       "    <tr>\n",
       "      <th>27</th>\n",
       "      <td>ANZ_PERSONEN</td>\n",
       "      <td>2.29</td>\n",
       "      <td>1.51</td>\n",
       "    </tr>\n",
       "    <tr>\n",
       "      <th>28</th>\n",
       "      <td>ANZ_TITEL</td>\n",
       "      <td>-0.00</td>\n",
       "      <td>0.00</td>\n",
       "    </tr>\n",
       "    <tr>\n",
       "      <th>29</th>\n",
       "      <td>HH_EINKOMMEN_SCORE</td>\n",
       "      <td>2.45</td>\n",
       "      <td>5.54</td>\n",
       "    </tr>\n",
       "    <tr>\n",
       "      <th>30</th>\n",
       "      <td>W_KEIT_KIND_HH</td>\n",
       "      <td>4.17</td>\n",
       "      <td>4.47</td>\n",
       "    </tr>\n",
       "    <tr>\n",
       "      <th>31</th>\n",
       "      <td>WOHNDAUER_2008</td>\n",
       "      <td>8.51</td>\n",
       "      <td>7.12</td>\n",
       "    </tr>\n",
       "    <tr>\n",
       "      <th>32</th>\n",
       "      <td>ANZ_HAUSHALTE_AKTIV</td>\n",
       "      <td>1.78</td>\n",
       "      <td>14.71</td>\n",
       "    </tr>\n",
       "    <tr>\n",
       "      <th>33</th>\n",
       "      <td>ANZ_HH_TITEL</td>\n",
       "      <td>0.01</td>\n",
       "      <td>0.05</td>\n",
       "    </tr>\n",
       "    <tr>\n",
       "      <th>34</th>\n",
       "      <td>KONSUMNAEHE</td>\n",
       "      <td>3.30</td>\n",
       "      <td>2.03</td>\n",
       "    </tr>\n",
       "    <tr>\n",
       "      <th>35</th>\n",
       "      <td>MIN_GEBAEUDEJAHR</td>\n",
       "      <td>1992.56</td>\n",
       "      <td>1992.38</td>\n",
       "    </tr>\n",
       "    <tr>\n",
       "      <th>36</th>\n",
       "      <td>OST_WEST_KZ</td>\n",
       "      <td>0.10</td>\n",
       "      <td>0.32</td>\n",
       "    </tr>\n",
       "    <tr>\n",
       "      <th>37</th>\n",
       "      <td>WOHNLAGE</td>\n",
       "      <td>2.87</td>\n",
       "      <td>3.59</td>\n",
       "    </tr>\n",
       "    <tr>\n",
       "      <th>38</th>\n",
       "      <td>KBA05_ANTG1</td>\n",
       "      <td>2.74</td>\n",
       "      <td>0.35</td>\n",
       "    </tr>\n",
       "    <tr>\n",
       "      <th>39</th>\n",
       "      <td>KBA05_ANTG2</td>\n",
       "      <td>1.13</td>\n",
       "      <td>1.30</td>\n",
       "    </tr>\n",
       "    <tr>\n",
       "      <th>40</th>\n",
       "      <td>KBA05_ANTG3</td>\n",
       "      <td>0.08</td>\n",
       "      <td>1.24</td>\n",
       "    </tr>\n",
       "    <tr>\n",
       "      <th>41</th>\n",
       "      <td>KBA05_ANTG4</td>\n",
       "      <td>0.01</td>\n",
       "      <td>0.60</td>\n",
       "    </tr>\n",
       "    <tr>\n",
       "      <th>42</th>\n",
       "      <td>KBA05_GBZ</td>\n",
       "      <td>4.06</td>\n",
       "      <td>2.15</td>\n",
       "    </tr>\n",
       "    <tr>\n",
       "      <th>43</th>\n",
       "      <td>BALLRAUM</td>\n",
       "      <td>3.86</td>\n",
       "      <td>3.14</td>\n",
       "    </tr>\n",
       "    <tr>\n",
       "      <th>44</th>\n",
       "      <td>EWDICHTE</td>\n",
       "      <td>4.12</td>\n",
       "      <td>5.21</td>\n",
       "    </tr>\n",
       "    <tr>\n",
       "      <th>45</th>\n",
       "      <td>INNENSTADT</td>\n",
       "      <td>4.53</td>\n",
       "      <td>3.21</td>\n",
       "    </tr>\n",
       "    <tr>\n",
       "      <th>46</th>\n",
       "      <td>GEBAEUDETYP_RASTER</td>\n",
       "      <td>3.95</td>\n",
       "      <td>3.36</td>\n",
       "    </tr>\n",
       "    <tr>\n",
       "      <th>47</th>\n",
       "      <td>KKK</td>\n",
       "      <td>2.10</td>\n",
       "      <td>2.91</td>\n",
       "    </tr>\n",
       "    <tr>\n",
       "      <th>48</th>\n",
       "      <td>MOBI_REGIO</td>\n",
       "      <td>4.13</td>\n",
       "      <td>1.72</td>\n",
       "    </tr>\n",
       "    <tr>\n",
       "      <th>49</th>\n",
       "      <td>ONLINE_AFFINITAET</td>\n",
       "      <td>3.19</td>\n",
       "      <td>3.02</td>\n",
       "    </tr>\n",
       "  </tbody>\n",
       "</table>\n",
       "</div>"
      ],
      "text/plain": [
       "               Features  Overrepr_8  Underrepr_5\n",
       "25              SOHO_KZ        0.00        -0.00\n",
       "26             VERS_TYP        1.54         1.50\n",
       "27         ANZ_PERSONEN        2.29         1.51\n",
       "28            ANZ_TITEL       -0.00         0.00\n",
       "29   HH_EINKOMMEN_SCORE        2.45         5.54\n",
       "30       W_KEIT_KIND_HH        4.17         4.47\n",
       "31       WOHNDAUER_2008        8.51         7.12\n",
       "32  ANZ_HAUSHALTE_AKTIV        1.78        14.71\n",
       "33         ANZ_HH_TITEL        0.01         0.05\n",
       "34          KONSUMNAEHE        3.30         2.03\n",
       "35     MIN_GEBAEUDEJAHR     1992.56      1992.38\n",
       "36          OST_WEST_KZ        0.10         0.32\n",
       "37             WOHNLAGE        2.87         3.59\n",
       "38          KBA05_ANTG1        2.74         0.35\n",
       "39          KBA05_ANTG2        1.13         1.30\n",
       "40          KBA05_ANTG3        0.08         1.24\n",
       "41          KBA05_ANTG4        0.01         0.60\n",
       "42            KBA05_GBZ        4.06         2.15\n",
       "43             BALLRAUM        3.86         3.14\n",
       "44             EWDICHTE        4.12         5.21\n",
       "45           INNENSTADT        4.53         3.21\n",
       "46   GEBAEUDETYP_RASTER        3.95         3.36\n",
       "47                  KKK        2.10         2.91\n",
       "48           MOBI_REGIO        4.13         1.72\n",
       "49    ONLINE_AFFINITAET        3.19         3.02"
      ]
     },
     "execution_count": 173,
     "metadata": {},
     "output_type": "execute_result"
    }
   ],
   "source": [
    "comparison_df[25:50]"
   ]
  },
  {
   "cell_type": "code",
   "execution_count": 174,
   "metadata": {},
   "outputs": [
    {
     "data": {
      "text/html": [
       "<div>\n",
       "<style scoped>\n",
       "    .dataframe tbody tr th:only-of-type {\n",
       "        vertical-align: middle;\n",
       "    }\n",
       "\n",
       "    .dataframe tbody tr th {\n",
       "        vertical-align: top;\n",
       "    }\n",
       "\n",
       "    .dataframe thead th {\n",
       "        text-align: right;\n",
       "    }\n",
       "</style>\n",
       "<table border=\"1\" class=\"dataframe\">\n",
       "  <thead>\n",
       "    <tr style=\"text-align: right;\">\n",
       "      <th></th>\n",
       "      <th>Features</th>\n",
       "      <th>Overrepr_8</th>\n",
       "      <th>Underrepr_5</th>\n",
       "    </tr>\n",
       "  </thead>\n",
       "  <tbody>\n",
       "    <tr>\n",
       "      <th>50</th>\n",
       "      <td>REGIOTYP</td>\n",
       "      <td>3.37</td>\n",
       "      <td>4.98</td>\n",
       "    </tr>\n",
       "    <tr>\n",
       "      <th>51</th>\n",
       "      <td>KBA13_ANZAHL_PKW</td>\n",
       "      <td>692.66</td>\n",
       "      <td>499.23</td>\n",
       "    </tr>\n",
       "    <tr>\n",
       "      <th>52</th>\n",
       "      <td>PLZ8_ANTG1</td>\n",
       "      <td>2.77</td>\n",
       "      <td>1.37</td>\n",
       "    </tr>\n",
       "    <tr>\n",
       "      <th>53</th>\n",
       "      <td>PLZ8_ANTG2</td>\n",
       "      <td>2.62</td>\n",
       "      <td>3.37</td>\n",
       "    </tr>\n",
       "    <tr>\n",
       "      <th>54</th>\n",
       "      <td>PLZ8_ANTG3</td>\n",
       "      <td>1.22</td>\n",
       "      <td>2.49</td>\n",
       "    </tr>\n",
       "    <tr>\n",
       "      <th>55</th>\n",
       "      <td>PLZ8_ANTG4</td>\n",
       "      <td>0.39</td>\n",
       "      <td>1.33</td>\n",
       "    </tr>\n",
       "    <tr>\n",
       "      <th>56</th>\n",
       "      <td>PLZ8_BAUMAX</td>\n",
       "      <td>1.24</td>\n",
       "      <td>3.25</td>\n",
       "    </tr>\n",
       "    <tr>\n",
       "      <th>57</th>\n",
       "      <td>PLZ8_HHZ</td>\n",
       "      <td>3.73</td>\n",
       "      <td>3.74</td>\n",
       "    </tr>\n",
       "    <tr>\n",
       "      <th>58</th>\n",
       "      <td>PLZ8_GBZ</td>\n",
       "      <td>3.91</td>\n",
       "      <td>2.61</td>\n",
       "    </tr>\n",
       "    <tr>\n",
       "      <th>59</th>\n",
       "      <td>ARBEIT</td>\n",
       "      <td>3.08</td>\n",
       "      <td>3.73</td>\n",
       "    </tr>\n",
       "    <tr>\n",
       "      <th>60</th>\n",
       "      <td>ORTSGR_KLS9</td>\n",
       "      <td>5.61</td>\n",
       "      <td>7.05</td>\n",
       "    </tr>\n",
       "    <tr>\n",
       "      <th>61</th>\n",
       "      <td>RELAT_AB</td>\n",
       "      <td>2.98</td>\n",
       "      <td>3.77</td>\n",
       "    </tr>\n",
       "    <tr>\n",
       "      <th>62</th>\n",
       "      <td>DECADE</td>\n",
       "      <td>65.62</td>\n",
       "      <td>87.17</td>\n",
       "    </tr>\n",
       "    <tr>\n",
       "      <th>63</th>\n",
       "      <td>MOVEMENT</td>\n",
       "      <td>0.02</td>\n",
       "      <td>0.87</td>\n",
       "    </tr>\n",
       "    <tr>\n",
       "      <th>64</th>\n",
       "      <td>WEALTH</td>\n",
       "      <td>2.10</td>\n",
       "      <td>4.44</td>\n",
       "    </tr>\n",
       "    <tr>\n",
       "      <th>65</th>\n",
       "      <td>LIFE_STAGE</td>\n",
       "      <td>3.67</td>\n",
       "      <td>1.95</td>\n",
       "    </tr>\n",
       "  </tbody>\n",
       "</table>\n",
       "</div>"
      ],
      "text/plain": [
       "            Features  Overrepr_8  Underrepr_5\n",
       "50          REGIOTYP        3.37         4.98\n",
       "51  KBA13_ANZAHL_PKW      692.66       499.23\n",
       "52        PLZ8_ANTG1        2.77         1.37\n",
       "53        PLZ8_ANTG2        2.62         3.37\n",
       "54        PLZ8_ANTG3        1.22         2.49\n",
       "55        PLZ8_ANTG4        0.39         1.33\n",
       "56       PLZ8_BAUMAX        1.24         3.25\n",
       "57          PLZ8_HHZ        3.73         3.74\n",
       "58          PLZ8_GBZ        3.91         2.61\n",
       "59            ARBEIT        3.08         3.73\n",
       "60       ORTSGR_KLS9        5.61         7.05\n",
       "61          RELAT_AB        2.98         3.77\n",
       "62            DECADE       65.62        87.17\n",
       "63          MOVEMENT        0.02         0.87\n",
       "64            WEALTH        2.10         4.44\n",
       "65        LIFE_STAGE        3.67         1.95"
      ]
     },
     "execution_count": 174,
     "metadata": {},
     "output_type": "execute_result"
    }
   ],
   "source": [
    "comparison_df[50:]"
   ]
  },
  {
   "cell_type": "markdown",
   "metadata": {},
   "source": [
    "### Discussion 3.3: Compare Customer Data to Demographics Data\n",
    "\n",
    "**reporting findings and conclusions from the clustering analysis. Can we describe segments of the population that are relatively popular with the mail-order company, or relatively unpopular with the company?**"
   ]
  },
  {
   "cell_type": "markdown",
   "metadata": {},
   "source": [
    "#### Analysing Cluster 8 (target audience for the company):\n",
    "**what kinds of people are typified by this cluster? here are 20 of the most notable traits**\n",
    "- (1) Age: 46 or more, (2) Gender: male, (3) has high financial interest, (4) money-saver, (5) investor.\n",
    "- (6) high home ownership, (7) return type: low- returner, (8) Religious: more likely to be, (9) Rationality: high, (10) low sexual interests, (10) dutiful.\n",
    "- (11) tradional-minded, (12) high or very high houshold income, (13) more likely to be in the west, (14) more likely to be in good neighborhood, (15) high purchasing power in the region they live in.\n",
    "- (16) low movement, (17) lives in upper middel class, (18) decade: 60s, (19) Wealth: prosperous households, (20) Life Stage: older families and mature couples.\n",
    "\n",
    "#### Analysing Cluster 5 (outside of the target demographics):\n",
    "**what kinds of people are typified by this cluster? here are 20 of the most notable traits**\n",
    "- (1) Age: younger than 45, (2) Gender: male, (3) low financial interest, (4) not a money-saver, (5) low or average invesment.\n",
    "- (6) average or low home ownership, (7) return type: more likely to be heavy returner, (8) Religious: less likely to be, (9) Rationality: average, (10) high sexual interests, (10) not dutiful. \n",
    "- (11) not tradional-minded, (12) low or average houshold income, (13) more likely to be in the west, (14) more likely to be in average or poor neighborhood, (15) average purchasing power in the region they live in. \n",
    "- (16) high movement, (17) lives in lower middel class, (18) decade: 80s or 90s, (19) Wealth: Less Affluent Households, (20) Life Stage: Young Couples With Children.\n",
    "\n",
    "**It's important to note that I didn't include any missing data for this analysis, which means that a big chunk of the data have been left out, the result might have been different if I included them, or if the number of missing data was not as large to begin with.**"
   ]
  },
  {
   "cell_type": "markdown",
   "metadata": {},
   "source": [
    "> Congratulations on making it this far in the project! Before you finish, make sure to check through the entire notebook from top to bottom to make sure that your analysis follows a logical flow and all of your findings are documented in **Discussion** cells. Once you've checked over all of your work, you should export the notebook as an HTML document to submit for evaluation. You can do this from the menu, navigating to **File -> Download as -> HTML (.html)**. You will submit both that document and this notebook for your project submission."
   ]
  },
  {
   "cell_type": "code",
   "execution_count": null,
   "metadata": {},
   "outputs": [],
   "source": []
  }
 ],
 "metadata": {
  "kernelspec": {
   "display_name": "Python 3",
   "language": "python",
   "name": "python3"
  },
  "language_info": {
   "codemirror_mode": {
    "name": "ipython",
    "version": 3
   },
   "file_extension": ".py",
   "mimetype": "text/x-python",
   "name": "python",
   "nbconvert_exporter": "python",
   "pygments_lexer": "ipython3",
   "version": "3.6.3"
  }
 },
 "nbformat": 4,
 "nbformat_minor": 2
}
